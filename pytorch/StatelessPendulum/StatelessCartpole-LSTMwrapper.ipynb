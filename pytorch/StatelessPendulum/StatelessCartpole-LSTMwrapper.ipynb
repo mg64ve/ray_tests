{
 "cells": [
  {
   "cell_type": "code",
   "execution_count": 1,
   "id": "feb1dd3c",
   "metadata": {},
   "outputs": [],
   "source": [
    "from gym.spaces import Box\n",
    "import numpy as np\n",
    "\n",
    "from gym.envs.classic_control import CartPoleEnv"
   ]
  },
  {
   "cell_type": "code",
   "execution_count": 2,
   "id": "1c48d553",
   "metadata": {},
   "outputs": [],
   "source": [
    "class StatelessCartPole(CartPoleEnv):\n",
    "    \"\"\"Partially observable variant of the CartPole gym environment.\n",
    "\n",
    "    https://github.com/openai/gym/blob/master/gym/envs/classic_control/\n",
    "    cartpole.py\n",
    "\n",
    "    We delete the x- and angular velocity components of the state, so that it\n",
    "    can only be solved by a memory enhanced model (policy).\n",
    "    \"\"\"\n",
    "\n",
    "    def __init__(self, config=None):\n",
    "        super().__init__()\n",
    "\n",
    "        # Fix our observation-space (remove 2 velocity components).\n",
    "        high = np.array(\n",
    "            [\n",
    "                self.x_threshold * 2,\n",
    "                self.theta_threshold_radians * 2,\n",
    "            ],\n",
    "            dtype=np.float32)\n",
    "\n",
    "        self.observation_space = Box(low=-high, high=high, dtype=np.float32)\n",
    "\n",
    "    def step(self, action):\n",
    "        next_obs, reward, done, info = super().step(action)\n",
    "        # next_obs is [x-pos, x-veloc, angle, angle-veloc]\n",
    "        return np.array([next_obs[0], next_obs[2]]), reward, done, info\n",
    "\n",
    "    def reset(self):\n",
    "        init_obs = super().reset()\n",
    "        # init_obs is [x-pos, x-veloc, angle, angle-veloc]\n",
    "        return np.array([init_obs[0], init_obs[2]])\n"
   ]
  },
  {
   "cell_type": "code",
   "execution_count": 3,
   "id": "a73f8744",
   "metadata": {},
   "outputs": [
    {
     "name": "stderr",
     "output_type": "stream",
     "text": [
      "2021-12-09 14:46:05,919\tWARNING deprecation.py:45 -- DeprecationWarning: `ray.rllib.utils.window_stat.WindowStat` has been deprecated. Use `ray.rllib.utils.metrics.window_stat.WindowStat` instead. This will raise an error in the future!\n"
     ]
    }
   ],
   "source": [
    "import numpy as np\n",
    "\n",
    "import ray\n",
    "from ray import tune\n",
    "from ray.tune.registry import register_env\n",
    "from ray.rllib.models import ModelCatalog\n"
   ]
  },
  {
   "cell_type": "code",
   "execution_count": 4,
   "id": "cab4bb47",
   "metadata": {},
   "outputs": [
    {
     "name": "stderr",
     "output_type": "stream",
     "text": [
      "2021-12-09 14:46:09,767\tWARNING services.py:1838 -- WARNING: The object store is using /tmp instead of /dev/shm because /dev/shm has only 67108864 bytes available. This will harm performance! You may be able to free up space by deleting files in /dev/shm. If you are inside a Docker container, you can increase /dev/shm size by passing '--shm-size=10.24gb' to 'docker run' (or add it to the run_options list in a Ray cluster config). Make sure to set this to more than 30% of available RAM.\n"
     ]
    },
    {
     "data": {
      "text/plain": [
       "{'node_ip_address': '172.18.0.3',\n",
       " 'raylet_ip_address': '172.18.0.3',\n",
       " 'redis_address': '172.18.0.3:20885',\n",
       " 'object_store_address': '/tmp/ray/session_2021-12-09_14-46-08_525733_1744/sockets/plasma_store',\n",
       " 'raylet_socket_name': '/tmp/ray/session_2021-12-09_14-46-08_525733_1744/sockets/raylet',\n",
       " 'webui_url': None,\n",
       " 'session_dir': '/tmp/ray/session_2021-12-09_14-46-08_525733_1744',\n",
       " 'metrics_export_port': 56606,\n",
       " 'node_id': 'ef0a3efd1e0896fd3cc66683fe40c03504d0390811079bdf301d0c9a'}"
      ]
     },
     "execution_count": 4,
     "metadata": {},
     "output_type": "execute_result"
    }
   ],
   "source": [
    "ray.init(num_cpus=0 or None)"
   ]
  },
  {
   "cell_type": "code",
   "execution_count": 5,
   "id": "ad0a2641",
   "metadata": {},
   "outputs": [],
   "source": [
    "register_env(\"StatelessCartPole\", lambda _: StatelessCartPole())\n"
   ]
  },
  {
   "cell_type": "code",
   "execution_count": 6,
   "id": "f6c25f06",
   "metadata": {},
   "outputs": [],
   "source": [
    "env = StatelessCartPole()"
   ]
  },
  {
   "cell_type": "code",
   "execution_count": 7,
   "id": "8e79eb55",
   "metadata": {},
   "outputs": [
    {
     "data": {
      "text/plain": [
       "array([-0.034167  ,  0.01839731], dtype=float32)"
      ]
     },
     "execution_count": 7,
     "metadata": {},
     "output_type": "execute_result"
    }
   ],
   "source": [
    "env.reset()"
   ]
  },
  {
   "cell_type": "code",
   "execution_count": 10,
   "id": "36767c29",
   "metadata": {},
   "outputs": [],
   "source": [
    "next_obs, reward, done, info = env.step(1)"
   ]
  },
  {
   "cell_type": "code",
   "execution_count": 11,
   "id": "80e20fe6",
   "metadata": {},
   "outputs": [
    {
     "data": {
      "text/plain": [
       "1.0"
      ]
     },
     "execution_count": 11,
     "metadata": {},
     "output_type": "execute_result"
    }
   ],
   "source": [
    "reward"
   ]
  },
  {
   "cell_type": "code",
   "execution_count": 12,
   "id": "2d26c850",
   "metadata": {},
   "outputs": [],
   "source": [
    "configs = {\n",
    "    \"PPO\": {\n",
    "        \"num_sgd_iter\": 5,\n",
    "        \"sgd_minibatch_size\": 128, \n",
    "        \"simple_optimizer\": True,\n",
    "        \"model\": {\n",
    "            \"vf_share_layers\": True,\n",
    "        },\n",
    "        \"vf_loss_coeff\": 0.0001,\n",
    "    },\n",
    "    \"IMPALA\": {\n",
    "        \"num_workers\": 2,\n",
    "        \"num_gpus\": 0,\n",
    "        \"vf_loss_coeff\": 0.01,\n",
    "    },\n",
    "}"
   ]
  },
  {
   "cell_type": "code",
   "execution_count": 13,
   "id": "09584889",
   "metadata": {},
   "outputs": [],
   "source": [
    "config = dict(\n",
    "    configs['PPO'],\n",
    "    **{\n",
    "        \"env\": 'StatelessCartPole',\n",
    "        # Use GPUs iff `RLLIB_NUM_GPUS` env var set to > 0.\n",
    "        \"num_gpus\": 0,\n",
    "        \"model\": {\n",
    "            \"use_lstm\": True,\n",
    "            \"lstm_cell_size\": 256,\n",
    "            \"lstm_use_prev_action\": True,\n",
    "            \"lstm_use_prev_reward\": True,\n",
    "        },\n",
    "        \"framework\": 'torch',\n",
    "    })"
   ]
  },
  {
   "cell_type": "code",
   "execution_count": 14,
   "id": "2fd283e8",
   "metadata": {},
   "outputs": [],
   "source": [
    "stop = {\n",
    "    \"training_iteration\": 40,\n",
    "    \"timesteps_total\": 100000,\n",
    "    \"episode_reward_mean\": 90.,\n",
    "}"
   ]
  },
  {
   "cell_type": "code",
   "execution_count": 15,
   "id": "f070c798",
   "metadata": {},
   "outputs": [
    {
     "name": "stderr",
     "output_type": "stream",
     "text": [
      "2021-12-09 14:47:06,875\tINFO logger.py:605 -- pip install \"ray[tune]\" to see TensorBoard files.\n",
      "2021-12-09 14:47:06,877\tWARNING callback.py:114 -- The TensorboardX logger cannot be instantiated because either TensorboardX or one of it's dependencies is not installed. Please make sure you have the latest version of TensorboardX installed: `pip install -U tensorboardx`\n",
      "2021-12-09 14:47:07,171\tERROR syncer.py:111 -- Log sync requires rsync to be installed.\n",
      "\u001b[2m\u001b[36m(bundle_reservation_check_func pid=1875)\u001b[0m 2021-12-09 14:47:08,639\tWARNING deprecation.py:45 -- DeprecationWarning: `ray.rllib.utils.window_stat.WindowStat` has been deprecated. Use `ray.rllib.utils.metrics.window_stat.WindowStat` instead. This will raise an error in the future!\n",
      "\u001b[2m\u001b[36m(PPO pid=1875)\u001b[0m 2021-12-09 14:47:08,985\tWARNING deprecation.py:45 -- DeprecationWarning: `simple_optimizer` has been deprecated. This will raise an error in the future!\n",
      "\u001b[2m\u001b[36m(PPO pid=1875)\u001b[0m 2021-12-09 14:47:08,985\tINFO trainer.py:719 -- Current log_level is WARN. For more information, set 'log_level': 'INFO' / 'DEBUG' or use the -v and -vv flags.\n",
      "\u001b[2m\u001b[36m(pid=1874)\u001b[0m 2021-12-09 14:47:10,462\tWARNING deprecation.py:45 -- DeprecationWarning: `ray.rllib.utils.window_stat.WindowStat` has been deprecated. Use `ray.rllib.utils.metrics.window_stat.WindowStat` instead. This will raise an error in the future!\n",
      "\u001b[2m\u001b[36m(pid=1867)\u001b[0m 2021-12-09 14:47:10,477\tWARNING deprecation.py:45 -- DeprecationWarning: `ray.rllib.utils.window_stat.WindowStat` has been deprecated. Use `ray.rllib.utils.metrics.window_stat.WindowStat` instead. This will raise an error in the future!\n",
      "\u001b[2m\u001b[36m(RolloutWorker pid=1874)\u001b[0m 2021-12-09 14:47:10,853\tWARNING deprecation.py:45 -- DeprecationWarning: `rllib.env.remote_base_env.RemoteVectorEnv` has been deprecated. Use `ray.rllib.env.remote_base_env.RemoteBaseEnv` instead. This will raise an error in the future!\n",
      "\u001b[2m\u001b[36m(RolloutWorker pid=1867)\u001b[0m 2021-12-09 14:47:10,848\tWARNING deprecation.py:45 -- DeprecationWarning: `rllib.env.remote_base_env.RemoteVectorEnv` has been deprecated. Use `ray.rllib.env.remote_base_env.RemoteBaseEnv` instead. This will raise an error in the future!\n"
     ]
    },
    {
     "data": {
      "text/html": [
       "== Status ==<br>Current time: 2021-12-09 14:47:10 (running for 00:00:04.03)<br>Memory usage on this node: 3.9/62.5 GiB<br>Using FIFO scheduling algorithm.<br>Resources requested: 3.0/12 CPUs, 0/1 GPUs, 0.0/44.92 GiB heap, 0.0/9.31 GiB objects<br>Result logdir: /home/condauser/ray_results/PPO<br>Number of trials: 1/1 (1 RUNNING)<br><br>"
      ],
      "text/plain": [
       "<IPython.core.display.HTML object>"
      ]
     },
     "metadata": {},
     "output_type": "display_data"
    },
    {
     "name": "stderr",
     "output_type": "stream",
     "text": [
      "\u001b[2m\u001b[36m(PPO pid=1875)\u001b[0m 2021-12-09 14:47:10,957\tWARNING util.py:57 -- Install gputil for GPU system monitoring.\n"
     ]
    },
    {
     "data": {
      "text/html": [
       "== Status ==<br>Current time: 2021-12-09 14:47:12 (running for 00:00:06.04)<br>Memory usage on this node: 3.9/62.5 GiB<br>Using FIFO scheduling algorithm.<br>Resources requested: 3.0/12 CPUs, 0/1 GPUs, 0.0/44.92 GiB heap, 0.0/9.31 GiB objects<br>Result logdir: /home/condauser/ray_results/PPO<br>Number of trials: 1/1 (1 RUNNING)<br><br>"
      ],
      "text/plain": [
       "<IPython.core.display.HTML object>"
      ]
     },
     "metadata": {},
     "output_type": "display_data"
    },
    {
     "name": "stderr",
     "output_type": "stream",
     "text": [
      "\u001b[2m\u001b[36m(PPO pid=1875)\u001b[0m 2021-12-09 14:47:15,177\tWARNING deprecation.py:45 -- DeprecationWarning: `_get_slice_indices` has been deprecated. This will raise an error in the future!\n",
      "\u001b[2m\u001b[36m(PPO pid=1875)\u001b[0m 2021-12-09 14:47:15,178\tWARNING deprecation.py:45 -- DeprecationWarning: `slice` has been deprecated. Use `SampleBatch[start:stop]` instead. This will raise an error in the future!\n"
     ]
    },
    {
     "data": {
      "text/html": [
       "== Status ==<br>Current time: 2021-12-09 14:47:17 (running for 00:00:11.05)<br>Memory usage on this node: 4.0/62.5 GiB<br>Using FIFO scheduling algorithm.<br>Resources requested: 3.0/12 CPUs, 0/1 GPUs, 0.0/44.92 GiB heap, 0.0/9.31 GiB objects<br>Result logdir: /home/condauser/ray_results/PPO<br>Number of trials: 1/1 (1 RUNNING)<br><br>"
      ],
      "text/plain": [
       "<IPython.core.display.HTML object>"
      ]
     },
     "metadata": {},
     "output_type": "display_data"
    },
    {
     "name": "stdout",
     "output_type": "stream",
     "text": [
      "Trial PPO_StatelessCartPole_7faac_00000 reported episode_reward_max=94.0,episode_reward_min=9.0,episode_reward_mean=22.3876404494382,episode_len_mean=22.3876404494382,episode_media={},episodes_this_iter=178,policy_reward_min={},policy_reward_max={},policy_reward_mean={},custom_metrics={},sampler_perf={'mean_raw_obs_processing_ms': 0.14308004126675067, 'mean_inference_ms': 1.6070663899198163, 'mean_action_processing_ms': 0.06331419241779868, 'mean_env_wait_ms': 0.08095579704959532, 'mean_env_render_ms': 0.0},off_policy_estimator={},num_healthy_workers=2,timesteps_this_iter=0,agent_timesteps_total=4000,timers={'sample_time_ms': 4220.256, 'sample_throughput': 947.81, 'learn_time_ms': 4569.073, 'learn_throughput': 875.451, 'update_time_ms': 2.438},info={'learner': {'default_policy': {'learner_stats': {'allreduce_latency': 0.0, 'cur_kl_coeff': 0.19999999999999996, 'cur_lr': 5e-05, 'total_loss': -0.019445178443283747, 'policy_loss': -0.047823909379428986, 'vf_loss': 260.6659672592626, 'vf_explained_var': -0.0014738382715167421, 'kl': 0.011560680066725127, 'entropy': 0.680252425959616, 'entropy_coeff': 0.0}, 'model': {}, 'custom_metrics': {}}}, 'num_steps_sampled': 4000, 'num_agent_steps_sampled': 4000, 'num_steps_trained': 4000},perf={'cpu_util_percent': 18.015384615384615, 'ram_util_percent': 6.299999999999999} with parameters={'num_sgd_iter': 5, 'sgd_minibatch_size': 128, 'simple_optimizer': True, 'model': {'use_lstm': True, 'lstm_cell_size': 256, 'lstm_use_prev_action': True, 'lstm_use_prev_reward': True}, 'vf_loss_coeff': 0.0001, 'env': 'StatelessCartPole', 'num_gpus': 0, 'framework': 'torch'}.\n"
     ]
    },
    {
     "data": {
      "text/html": [
       "== Status ==<br>Current time: 2021-12-09 14:47:23 (running for 00:00:16.85)<br>Memory usage on this node: 4.0/62.5 GiB<br>Using FIFO scheduling algorithm.<br>Resources requested: 3.0/12 CPUs, 0/1 GPUs, 0.0/44.92 GiB heap, 0.0/9.31 GiB objects<br>Result logdir: /home/condauser/ray_results/PPO<br>Number of trials: 1/1 (1 RUNNING)<br><br>"
      ],
      "text/plain": [
       "<IPython.core.display.HTML object>"
      ]
     },
     "metadata": {},
     "output_type": "display_data"
    },
    {
     "name": "stdout",
     "output_type": "stream",
     "text": [
      "Trial PPO_StatelessCartPole_7faac_00000 reported episode_reward_max=128.0,episode_reward_min=9.0,episode_reward_mean=31.753968253968253,episode_len_mean=31.753968253968253,episode_media={},episodes_this_iter=126,policy_reward_min={},policy_reward_max={},policy_reward_mean={},custom_metrics={},sampler_perf={'mean_raw_obs_processing_ms': 0.137668463281855, 'mean_inference_ms': 1.5973858482528005, 'mean_action_processing_ms': 0.06260232404089879, 'mean_env_wait_ms': 0.07955779022438238, 'mean_env_render_ms': 0.0},off_policy_estimator={},num_healthy_workers=2,timesteps_this_iter=0,agent_timesteps_total=8000,timers={'sample_time_ms': 6414.553, 'sample_throughput': 623.582, 'learn_time_ms': 4485.676, 'learn_throughput': 891.727, 'update_time_ms': 2.579},info={'learner': {'default_policy': {'learner_stats': {'allreduce_latency': 0.0, 'cur_kl_coeff': 0.19999999999999996, 'cur_lr': 5e-05, 'total_loss': 0.009039733389561827, 'policy_loss': -0.03391761516757084, 'vf_loss': 412.0120442708333, 'vf_explained_var': -0.0015085552677963718, 'kl': 0.008780729154704231, 'entropy': 0.6541203885367423, 'entropy_coeff': 0.0}, 'model': {}, 'custom_metrics': {}}}, 'num_steps_sampled': 8000, 'num_agent_steps_sampled': 8000, 'num_steps_trained': 8000, 'num_steps_trained_this_iter': 0},perf={'cpu_util_percent': 18.76666666666667, 'ram_util_percent': 6.366666666666667} with parameters={'num_sgd_iter': 5, 'sgd_minibatch_size': 128, 'simple_optimizer': True, 'model': {'use_lstm': True, 'lstm_cell_size': 256, 'lstm_use_prev_action': True, 'lstm_use_prev_reward': True}, 'vf_loss_coeff': 0.0001, 'env': 'StatelessCartPole', 'num_gpus': 0, 'framework': 'torch'}.\n"
     ]
    },
    {
     "data": {
      "text/html": [
       "== Status ==<br>Current time: 2021-12-09 14:47:29 (running for 00:00:22.28)<br>Memory usage on this node: 4.0/62.5 GiB<br>Using FIFO scheduling algorithm.<br>Resources requested: 3.0/12 CPUs, 0/1 GPUs, 0.0/44.92 GiB heap, 0.0/9.31 GiB objects<br>Result logdir: /home/condauser/ray_results/PPO<br>Number of trials: 1/1 (1 RUNNING)<br><br>"
      ],
      "text/plain": [
       "<IPython.core.display.HTML object>"
      ]
     },
     "metadata": {},
     "output_type": "display_data"
    },
    {
     "data": {
      "text/html": [
       "== Status ==<br>Current time: 2021-12-09 14:47:34 (running for 00:00:27.29)<br>Memory usage on this node: 4.0/62.5 GiB<br>Using FIFO scheduling algorithm.<br>Resources requested: 3.0/12 CPUs, 0/1 GPUs, 0.0/44.92 GiB heap, 0.0/9.31 GiB objects<br>Result logdir: /home/condauser/ray_results/PPO<br>Number of trials: 1/1 (1 RUNNING)<br><br>"
      ],
      "text/plain": [
       "<IPython.core.display.HTML object>"
      ]
     },
     "metadata": {},
     "output_type": "display_data"
    },
    {
     "name": "stdout",
     "output_type": "stream",
     "text": [
      "Trial PPO_StatelessCartPole_7faac_00000 reported episode_reward_max=145.0,episode_reward_min=10.0,episode_reward_mean=40.31,episode_len_mean=40.31,episode_media={},episodes_this_iter=97,policy_reward_min={},policy_reward_max={},policy_reward_mean={},custom_metrics={},sampler_perf={'mean_raw_obs_processing_ms': 0.1348987013830322, 'mean_inference_ms': 1.6001005780616608, 'mean_action_processing_ms': 0.06258057852834059, 'mean_env_wait_ms': 0.0795256211103808, 'mean_env_render_ms': 0.0},off_policy_estimator={},num_healthy_workers=2,timesteps_this_iter=0,agent_timesteps_total=12000,timers={'sample_time_ms': 7091.215, 'sample_throughput': 564.078, 'learn_time_ms': 4436.235, 'learn_throughput': 901.666, 'update_time_ms': 2.426},info={'learner': {'default_policy': {'learner_stats': {'allreduce_latency': 0.0, 'cur_kl_coeff': 0.19999999999999996, 'cur_lr': 5e-05, 'total_loss': 0.02469274295550404, 'policy_loss': -0.044319790601730344, 'vf_loss': 674.2920326926492, 'vf_explained_var': -0.004970469258048318, 'kl': 0.007916668614185402, 'entropy': 0.6271591251546687, 'entropy_coeff': 0.0}, 'model': {}, 'custom_metrics': {}}}, 'num_steps_sampled': 12000, 'num_agent_steps_sampled': 12000, 'num_steps_trained': 12000, 'num_steps_trained_this_iter': 0},perf={'cpu_util_percent': 18.941666666666666, 'ram_util_percent': 6.400000000000001} with parameters={'num_sgd_iter': 5, 'sgd_minibatch_size': 128, 'simple_optimizer': True, 'model': {'use_lstm': True, 'lstm_cell_size': 256, 'lstm_use_prev_action': True, 'lstm_use_prev_reward': True}, 'vf_loss_coeff': 0.0001, 'env': 'StatelessCartPole', 'num_gpus': 0, 'framework': 'torch'}.\n"
     ]
    },
    {
     "data": {
      "text/html": [
       "== Status ==<br>Current time: 2021-12-09 14:47:39 (running for 00:00:32.66)<br>Memory usage on this node: 4.0/62.5 GiB<br>Using FIFO scheduling algorithm.<br>Resources requested: 3.0/12 CPUs, 0/1 GPUs, 0.0/44.92 GiB heap, 0.0/9.31 GiB objects<br>Result logdir: /home/condauser/ray_results/PPO<br>Number of trials: 1/1 (1 RUNNING)<br><br>"
      ],
      "text/plain": [
       "<IPython.core.display.HTML object>"
      ]
     },
     "metadata": {},
     "output_type": "display_data"
    },
    {
     "data": {
      "text/html": [
       "== Status ==<br>Current time: 2021-12-09 14:47:44 (running for 00:00:37.67)<br>Memory usage on this node: 4.0/62.5 GiB<br>Using FIFO scheduling algorithm.<br>Resources requested: 3.0/12 CPUs, 0/1 GPUs, 0.0/44.92 GiB heap, 0.0/9.31 GiB objects<br>Result logdir: /home/condauser/ray_results/PPO<br>Number of trials: 1/1 (1 RUNNING)<br><br>"
      ],
      "text/plain": [
       "<IPython.core.display.HTML object>"
      ]
     },
     "metadata": {},
     "output_type": "display_data"
    },
    {
     "name": "stdout",
     "output_type": "stream",
     "text": [
      "Trial PPO_StatelessCartPole_7faac_00000 reported episode_reward_max=242.0,episode_reward_min=11.0,episode_reward_mean=57.99,episode_len_mean=57.99,episode_media={},episodes_this_iter=53,policy_reward_min={},policy_reward_max={},policy_reward_mean={},custom_metrics={},sampler_perf={'mean_raw_obs_processing_ms': 0.13310762738466544, 'mean_inference_ms': 1.5942089366192982, 'mean_action_processing_ms': 0.0621789681963732, 'mean_env_wait_ms': 0.0789814252846734, 'mean_env_render_ms': 0.0},off_policy_estimator={},num_healthy_workers=2,timesteps_this_iter=0,agent_timesteps_total=16000,timers={'sample_time_ms': 7422.193, 'sample_throughput': 538.924, 'learn_time_ms': 4427.337, 'learn_throughput': 903.478, 'update_time_ms': 2.457},info={'learner': {'default_policy': {'learner_stats': {'allreduce_latency': 0.0, 'cur_kl_coeff': 0.19999999999999996, 'cur_lr': 5e-05, 'total_loss': 0.09632529988884926, 'policy_loss': -0.03521677722420656, 'vf_loss': 1293.2174002907493, 'vf_explained_var': -0.05867604739738233, 'kl': 0.011101705446153241, 'entropy': 0.6026271507595524, 'entropy_coeff': 0.0}, 'model': {}, 'custom_metrics': {}}}, 'num_steps_sampled': 16000, 'num_agent_steps_sampled': 16000, 'num_steps_trained': 16000, 'num_steps_trained_this_iter': 0},perf={'cpu_util_percent': 18.741666666666664, 'ram_util_percent': 6.400000000000001} with parameters={'num_sgd_iter': 5, 'sgd_minibatch_size': 128, 'simple_optimizer': True, 'model': {'use_lstm': True, 'lstm_cell_size': 256, 'lstm_use_prev_action': True, 'lstm_use_prev_reward': True}, 'vf_loss_coeff': 0.0001, 'env': 'StatelessCartPole', 'num_gpus': 0, 'framework': 'torch'}.\n"
     ]
    },
    {
     "data": {
      "text/html": [
       "== Status ==<br>Current time: 2021-12-09 14:47:50 (running for 00:00:43.15)<br>Memory usage on this node: 4.0/62.5 GiB<br>Using FIFO scheduling algorithm.<br>Resources requested: 3.0/12 CPUs, 0/1 GPUs, 0.0/44.92 GiB heap, 0.0/9.31 GiB objects<br>Result logdir: /home/condauser/ray_results/PPO<br>Number of trials: 1/1 (1 RUNNING)<br><br>"
      ],
      "text/plain": [
       "<IPython.core.display.HTML object>"
      ]
     },
     "metadata": {},
     "output_type": "display_data"
    },
    {
     "name": "stdout",
     "output_type": "stream",
     "text": [
      "Trial PPO_StatelessCartPole_7faac_00000 reported episode_reward_max=242.0,episode_reward_min=12.0,episode_reward_mean=67.59,episode_len_mean=67.59,episode_media={},episodes_this_iter=63,policy_reward_min={},policy_reward_max={},policy_reward_mean={},custom_metrics={},sampler_perf={'mean_raw_obs_processing_ms': 0.1302822078620692, 'mean_inference_ms': 1.5914300532001175, 'mean_action_processing_ms': 0.06210568116070455, 'mean_env_wait_ms': 0.07875218459444656, 'mean_env_render_ms': 0.0},off_policy_estimator={},num_healthy_workers=2,timesteps_this_iter=0,agent_timesteps_total=20000,timers={'sample_time_ms': 7611.563, 'sample_throughput': 525.516, 'learn_time_ms': 4393.91, 'learn_throughput': 910.351, 'update_time_ms': 2.398},info={'learner': {'default_policy': {'learner_stats': {'allreduce_latency': 0.0, 'cur_kl_coeff': 0.19999999999999996, 'cur_lr': 5e-05, 'total_loss': 0.037750435823743995, 'policy_loss': -0.04029302746621948, 'vf_loss': 758.5688905195757, 'vf_explained_var': -0.17162442749196832, 'kl': 0.010932872895514882, 'entropy': 0.5762297975294518, 'entropy_coeff': 0.0}, 'model': {}, 'custom_metrics': {}}}, 'num_steps_sampled': 20000, 'num_agent_steps_sampled': 20000, 'num_steps_trained': 20000, 'num_steps_trained_this_iter': 0},perf={'cpu_util_percent': 18.741666666666667, 'ram_util_percent': 6.400000000000001} with parameters={'num_sgd_iter': 5, 'sgd_minibatch_size': 128, 'simple_optimizer': True, 'model': {'use_lstm': True, 'lstm_cell_size': 256, 'lstm_use_prev_action': True, 'lstm_use_prev_reward': True}, 'vf_loss_coeff': 0.0001, 'env': 'StatelessCartPole', 'num_gpus': 0, 'framework': 'torch'}.\n"
     ]
    },
    {
     "data": {
      "text/html": [
       "== Status ==<br>Current time: 2021-12-09 14:47:55 (running for 00:00:48.37)<br>Memory usage on this node: 4.0/62.5 GiB<br>Using FIFO scheduling algorithm.<br>Resources requested: 3.0/12 CPUs, 0/1 GPUs, 0.0/44.92 GiB heap, 0.0/9.31 GiB objects<br>Result logdir: /home/condauser/ray_results/PPO<br>Number of trials: 1/1 (1 RUNNING)<br><br>"
      ],
      "text/plain": [
       "<IPython.core.display.HTML object>"
      ]
     },
     "metadata": {},
     "output_type": "display_data"
    },
    {
     "data": {
      "text/html": [
       "== Status ==<br>Current time: 2021-12-09 14:48:00 (running for 00:00:53.38)<br>Memory usage on this node: 4.0/62.5 GiB<br>Using FIFO scheduling algorithm.<br>Resources requested: 3.0/12 CPUs, 0/1 GPUs, 0.0/44.92 GiB heap, 0.0/9.31 GiB objects<br>Result logdir: /home/condauser/ray_results/PPO<br>Number of trials: 1/1 (1 RUNNING)<br><br>"
      ],
      "text/plain": [
       "<IPython.core.display.HTML object>"
      ]
     },
     "metadata": {},
     "output_type": "display_data"
    },
    {
     "name": "stdout",
     "output_type": "stream",
     "text": [
      "Trial PPO_StatelessCartPole_7faac_00000 reported episode_reward_max=278.0,episode_reward_min=13.0,episode_reward_mean=81.98,episode_len_mean=81.98,episode_media={},episodes_this_iter=30,policy_reward_min={},policy_reward_max={},policy_reward_mean={},custom_metrics={},sampler_perf={'mean_raw_obs_processing_ms': 0.12916824556692064, 'mean_inference_ms': 1.5902848562795675, 'mean_action_processing_ms': 0.062064887564958246, 'mean_env_wait_ms': 0.07871204247497782, 'mean_env_render_ms': 0.0},off_policy_estimator={},num_healthy_workers=2,timesteps_this_iter=0,agent_timesteps_total=24000,timers={'sample_time_ms': 7724.163, 'sample_throughput': 517.855, 'learn_time_ms': 4359.218, 'learn_throughput': 917.596, 'update_time_ms': 2.371},info={'learner': {'default_policy': {'learner_stats': {'allreduce_latency': 0.0, 'cur_kl_coeff': 0.19999999999999996, 'cur_lr': 5e-05, 'total_loss': 0.08713296892855203, 'policy_loss': -0.022104012762958352, 'vf_loss': 1066.41193819913, 'vf_explained_var': -0.0988796125758778, 'kl': 0.012978942785072159, 'entropy': 0.5585287179007675, 'entropy_coeff': 0.0}, 'model': {}, 'custom_metrics': {}}}, 'num_steps_sampled': 24000, 'num_agent_steps_sampled': 24000, 'num_steps_trained': 24000, 'num_steps_trained_this_iter': 0},perf={'cpu_util_percent': 19.091666666666665, 'ram_util_percent': 6.400000000000001} with parameters={'num_sgd_iter': 5, 'sgd_minibatch_size': 128, 'simple_optimizer': True, 'model': {'use_lstm': True, 'lstm_cell_size': 256, 'lstm_use_prev_action': True, 'lstm_use_prev_reward': True}, 'vf_loss_coeff': 0.0001, 'env': 'StatelessCartPole', 'num_gpus': 0, 'framework': 'torch'}.\n"
     ]
    },
    {
     "data": {
      "text/html": [
       "== Status ==<br>Current time: 2021-12-09 14:48:05 (running for 00:00:58.58)<br>Memory usage on this node: 4.0/62.5 GiB<br>Using FIFO scheduling algorithm.<br>Resources requested: 3.0/12 CPUs, 0/1 GPUs, 0.0/44.92 GiB heap, 0.0/9.31 GiB objects<br>Result logdir: /home/condauser/ray_results/PPO<br>Number of trials: 1/1 (1 RUNNING)<br><br>"
      ],
      "text/plain": [
       "<IPython.core.display.HTML object>"
      ]
     },
     "metadata": {},
     "output_type": "display_data"
    },
    {
     "name": "stdout",
     "output_type": "stream",
     "text": [
      "Trial PPO_StatelessCartPole_7faac_00000 reported episode_reward_max=278.0,episode_reward_min=13.0,episode_reward_mean=100.31,episode_len_mean=100.31,episode_media={},episodes_this_iter=34,policy_reward_min={},policy_reward_max={},policy_reward_mean={},custom_metrics={},sampler_perf={'mean_raw_obs_processing_ms': 0.12835189509370581, 'mean_inference_ms': 1.5902664262032473, 'mean_action_processing_ms': 0.06202862545197946, 'mean_env_wait_ms': 0.07865247430877828, 'mean_env_render_ms': 0.0},off_policy_estimator={},num_healthy_workers=2,timesteps_this_iter=0,agent_timesteps_total=28000,timers={'sample_time_ms': 7796.922, 'sample_throughput': 513.023, 'learn_time_ms': 4346.645, 'learn_throughput': 920.25, 'update_time_ms': 2.362},info={'learner': {'default_policy': {'learner_stats': {'allreduce_latency': 0.0, 'cur_kl_coeff': 0.19999999999999996, 'cur_lr': 5e-05, 'total_loss': 0.09229471022545388, 'policy_loss': -0.0089716349587296, 'vf_loss': 992.6105527010831, 'vf_explained_var': -0.152300467635646, 'kl': 0.010026491782317487, 'entropy': 0.5396571746378234, 'entropy_coeff': 0.0}, 'model': {}, 'custom_metrics': {}}}, 'num_steps_sampled': 28000, 'num_agent_steps_sampled': 28000, 'num_steps_trained': 28000, 'num_steps_trained_this_iter': 0},perf={'cpu_util_percent': 19.018181818181816, 'ram_util_percent': 6.4} with parameters={'num_sgd_iter': 5, 'sgd_minibatch_size': 128, 'simple_optimizer': True, 'model': {'use_lstm': True, 'lstm_cell_size': 256, 'lstm_use_prev_action': True, 'lstm_use_prev_reward': True}, 'vf_loss_coeff': 0.0001, 'env': 'StatelessCartPole', 'num_gpus': 0, 'framework': 'torch'}. This trial completed.\n"
     ]
    },
    {
     "data": {
      "text/html": [
       "== Status ==<br>Current time: 2021-12-09 14:48:09 (running for 00:01:02.94)<br>Memory usage on this node: 4.0/62.5 GiB<br>Using FIFO scheduling algorithm.<br>Resources requested: 0/12 CPUs, 0/1 GPUs, 0.0/44.92 GiB heap, 0.0/9.31 GiB objects<br>Result logdir: /home/condauser/ray_results/PPO<br>Number of trials: 1/1 (1 TERMINATED)<br><table>\n",
       "<thead>\n",
       "<tr><th>Trial name                       </th><th>status    </th><th>loc            </th><th style=\"text-align: right;\">  iter</th><th style=\"text-align: right;\">  total time (s)</th><th style=\"text-align: right;\">   ts</th><th style=\"text-align: right;\">  reward</th><th style=\"text-align: right;\">  episode_reward_max</th><th style=\"text-align: right;\">  episode_reward_min</th><th style=\"text-align: right;\">  episode_len_mean</th></tr>\n",
       "</thead>\n",
       "<tbody>\n",
       "<tr><td>PPO_StatelessCartPole_7faac_00000</td><td>TERMINATED</td><td>172.18.0.3:1875</td><td style=\"text-align: right;\">     7</td><td style=\"text-align: right;\">         58.8009</td><td style=\"text-align: right;\">28000</td><td style=\"text-align: right;\">  100.31</td><td style=\"text-align: right;\">                 278</td><td style=\"text-align: right;\">                  13</td><td style=\"text-align: right;\">            100.31</td></tr>\n",
       "</tbody>\n",
       "</table><br><br>"
      ],
      "text/plain": [
       "<IPython.core.display.HTML object>"
      ]
     },
     "metadata": {},
     "output_type": "display_data"
    },
    {
     "name": "stderr",
     "output_type": "stream",
     "text": [
      "2021-12-09 14:48:09,975\tINFO tune.py:626 -- Total run time: 63.10 seconds (62.90 seconds for the tuning loop).\n"
     ]
    }
   ],
   "source": [
    "results = tune.run('PPO', config=config, stop=stop, verbose=2)"
   ]
  },
  {
   "cell_type": "code",
   "execution_count": null,
   "id": "63006c6a",
   "metadata": {},
   "outputs": [],
   "source": []
  }
 ],
 "metadata": {
  "kernelspec": {
   "display_name": "Python 3 (ipykernel)",
   "language": "python",
   "name": "python3"
  },
  "language_info": {
   "codemirror_mode": {
    "name": "ipython",
    "version": 3
   },
   "file_extension": ".py",
   "mimetype": "text/x-python",
   "name": "python",
   "nbconvert_exporter": "python",
   "pygments_lexer": "ipython3",
   "version": "3.9.5"
  }
 },
 "nbformat": 4,
 "nbformat_minor": 5
}

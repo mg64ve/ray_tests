{
 "cells": [
  {
   "cell_type": "code",
   "execution_count": 1,
   "id": "feb1dd3c",
   "metadata": {},
   "outputs": [],
   "source": [
    "from gym.spaces import Box\n",
    "import numpy as np\n",
    "\n",
    "from gym.envs.classic_control import PendulumEnv"
   ]
  },
  {
   "cell_type": "code",
   "execution_count": 2,
   "id": "1c48d553",
   "metadata": {},
   "outputs": [],
   "source": [
    "class StatelessPendulum(PendulumEnv):\n",
    "    \"\"\"Partially observable variant of the Pendulum gym environment.\n",
    "\n",
    "    https://github.com/openai/gym/blob/master/gym/envs/classic_control/\n",
    "    pendulum.py\n",
    "\n",
    "    We delete the angular velocity component of the state, so that it\n",
    "    can only be solved by a memory enhanced model (policy).\n",
    "    \"\"\"\n",
    "\n",
    "    def __init__(self, config=None):\n",
    "        config = config or {}\n",
    "        g = config.get(\"g\", 10.0)\n",
    "\n",
    "        super().__init__(g=g)\n",
    "\n",
    "        # Fix our observation-space (remove angular velocity component).\n",
    "        high = np.array([1., 1.], dtype=np.float32)\n",
    "        self.observation_space = Box(low=-high, high=high, dtype=np.float32)\n",
    "\n",
    "    def step(self, action):\n",
    "        next_obs, reward, done, info = super().step(action)\n",
    "        # next_obs is [cos(theta), sin(theta), theta-dot (angular velocity)]\n",
    "        return next_obs[:-1], reward, done, info\n",
    "\n",
    "    def reset(self):\n",
    "        init_obs = super().reset()\n",
    "        # init_obs is [cos(theta), sin(theta), theta-dot (angular velocity)]\n",
    "        return init_obs[:-1]\n"
   ]
  },
  {
   "cell_type": "code",
   "execution_count": 3,
   "id": "a73f8744",
   "metadata": {},
   "outputs": [
    {
     "name": "stderr",
     "output_type": "stream",
     "text": [
      "2021-12-09 14:27:54,611\tWARNING deprecation.py:45 -- DeprecationWarning: `ray.rllib.utils.window_stat.WindowStat` has been deprecated. Use `ray.rllib.utils.metrics.window_stat.WindowStat` instead. This will raise an error in the future!\n"
     ]
    }
   ],
   "source": [
    "import numpy as np\n",
    "\n",
    "import ray\n",
    "from ray import tune\n",
    "from ray.tune.registry import register_env\n",
    "from ray.rllib.models import ModelCatalog\n"
   ]
  },
  {
   "cell_type": "code",
   "execution_count": 4,
   "id": "cab4bb47",
   "metadata": {},
   "outputs": [
    {
     "name": "stderr",
     "output_type": "stream",
     "text": [
      "2021-12-09 14:27:58,219\tWARNING services.py:1838 -- WARNING: The object store is using /tmp instead of /dev/shm because /dev/shm has only 67108864 bytes available. This will harm performance! You may be able to free up space by deleting files in /dev/shm. If you are inside a Docker container, you can increase /dev/shm size by passing '--shm-size=10.24gb' to 'docker run' (or add it to the run_options list in a Ray cluster config). Make sure to set this to more than 30% of available RAM.\n"
     ]
    },
    {
     "data": {
      "text/plain": [
       "{'node_ip_address': '172.18.0.3',\n",
       " 'raylet_ip_address': '172.18.0.3',\n",
       " 'redis_address': '172.18.0.3:48762',\n",
       " 'object_store_address': '/tmp/ray/session_2021-12-09_14-27-56_974321_985/sockets/plasma_store',\n",
       " 'raylet_socket_name': '/tmp/ray/session_2021-12-09_14-27-56_974321_985/sockets/raylet',\n",
       " 'webui_url': None,\n",
       " 'session_dir': '/tmp/ray/session_2021-12-09_14-27-56_974321_985',\n",
       " 'metrics_export_port': 56289,\n",
       " 'node_id': 'd6b5b0d47bcfc03d7e51529ccf9ca44cd3765ceefb7350068da1e0c4'}"
      ]
     },
     "execution_count": 4,
     "metadata": {},
     "output_type": "execute_result"
    }
   ],
   "source": [
    "ray.init(num_cpus=0 or None)"
   ]
  },
  {
   "cell_type": "code",
   "execution_count": 6,
   "id": "ad0a2641",
   "metadata": {},
   "outputs": [],
   "source": [
    "register_env(\"StatelessPendulum\", lambda _: StatelessPendulum())\n"
   ]
  },
  {
   "cell_type": "code",
   "execution_count": 7,
   "id": "f6c25f06",
   "metadata": {},
   "outputs": [],
   "source": [
    "env = StatelessPendulum()"
   ]
  },
  {
   "cell_type": "code",
   "execution_count": 8,
   "id": "8e79eb55",
   "metadata": {},
   "outputs": [
    {
     "data": {
      "text/plain": [
       "array([ 0.07319583, -0.9973176 ], dtype=float32)"
      ]
     },
     "execution_count": 8,
     "metadata": {},
     "output_type": "execute_result"
    }
   ],
   "source": [
    "env.reset()"
   ]
  },
  {
   "cell_type": "code",
   "execution_count": 19,
   "id": "36767c29",
   "metadata": {},
   "outputs": [],
   "source": [
    "next_obs, reward, done, info = env.step([0.1])"
   ]
  },
  {
   "cell_type": "code",
   "execution_count": 20,
   "id": "80e20fe6",
   "metadata": {},
   "outputs": [
    {
     "data": {
      "text/plain": [
       "-2.2835522176273275"
      ]
     },
     "execution_count": 20,
     "metadata": {},
     "output_type": "execute_result"
    }
   ],
   "source": [
    "reward"
   ]
  },
  {
   "cell_type": "code",
   "execution_count": 13,
   "id": "2d26c850",
   "metadata": {},
   "outputs": [],
   "source": [
    "configs = {\n",
    "    \"PPO\": {\n",
    "        \"num_sgd_iter\": 5,\n",
    "        \"sgd_minibatch_size\": 128, \n",
    "        \"simple_optimizer\": True,\n",
    "        \"model\": {\n",
    "            \"vf_share_layers\": True,\n",
    "        },\n",
    "        \"vf_loss_coeff\": 0.0001,\n",
    "    },\n",
    "    \"IMPALA\": {\n",
    "        \"num_workers\": 2,\n",
    "        \"num_gpus\": 0,\n",
    "        \"vf_loss_coeff\": 0.01,\n",
    "    },\n",
    "}"
   ]
  },
  {
   "cell_type": "code",
   "execution_count": 14,
   "id": "09584889",
   "metadata": {},
   "outputs": [],
   "source": [
    "config = dict(\n",
    "    configs['PPO'],\n",
    "    **{\n",
    "        \"env\": 'StatelessPendulum',\n",
    "        # Use GPUs iff `RLLIB_NUM_GPUS` env var set to > 0.\n",
    "        \"num_gpus\": 0,\n",
    "        \"model\": {\n",
    "            \"use_lstm\": True,\n",
    "            \"lstm_cell_size\": 256,\n",
    "            \"lstm_use_prev_action\": True,\n",
    "            \"lstm_use_prev_reward\": True,\n",
    "        },\n",
    "        \"framework\": 'torch',\n",
    "    })"
   ]
  },
  {
   "cell_type": "code",
   "execution_count": 15,
   "id": "2fd283e8",
   "metadata": {},
   "outputs": [],
   "source": [
    "stop = {\n",
    "    \"training_iteration\": 40,\n",
    "    \"timesteps_total\": 100000,\n",
    "    \"episode_reward_mean\": 90.,\n",
    "}"
   ]
  },
  {
   "cell_type": "code",
   "execution_count": 16,
   "id": "f070c798",
   "metadata": {},
   "outputs": [
    {
     "name": "stderr",
     "output_type": "stream",
     "text": [
      "2021-12-09 14:34:59,620\tWARNING callback.py:114 -- The TensorboardX logger cannot be instantiated because either TensorboardX or one of it's dependencies is not installed. Please make sure you have the latest version of TensorboardX installed: `pip install -U tensorboardx`\n"
     ]
    },
    {
     "data": {
      "text/html": [
       "== Status ==<br>Current time: 2021-12-09 14:34:59 (running for 00:00:00.13)<br>Memory usage on this node: 2.8/62.5 GiB<br>Using FIFO scheduling algorithm.<br>Resources requested: 0/12 CPUs, 0/1 GPUs, 0.0/45.48 GiB heap, 0.0/9.31 GiB objects<br>Result logdir: /home/condauser/ray_results/PPO<br>Number of trials: 1/1 (1 PENDING)<br><br>"
      ],
      "text/plain": [
       "<IPython.core.display.HTML object>"
      ]
     },
     "metadata": {},
     "output_type": "display_data"
    },
    {
     "name": "stderr",
     "output_type": "stream",
     "text": [
      "\u001b[2m\u001b[36m(bundle_reservation_check_func pid=1107)\u001b[0m 2021-12-09 14:35:01,294\tWARNING deprecation.py:45 -- DeprecationWarning: `ray.rllib.utils.window_stat.WindowStat` has been deprecated. Use `ray.rllib.utils.metrics.window_stat.WindowStat` instead. This will raise an error in the future!\n",
      "\u001b[2m\u001b[36m(PPO pid=1107)\u001b[0m 2021-12-09 14:35:01,632\tWARNING deprecation.py:45 -- DeprecationWarning: `simple_optimizer` has been deprecated. This will raise an error in the future!\n",
      "\u001b[2m\u001b[36m(PPO pid=1107)\u001b[0m 2021-12-09 14:35:01,632\tINFO trainer.py:719 -- Current log_level is WARN. For more information, set 'log_level': 'INFO' / 'DEBUG' or use the -v and -vv flags.\n",
      "\u001b[2m\u001b[36m(pid=1108)\u001b[0m 2021-12-09 14:35:03,183\tWARNING deprecation.py:45 -- DeprecationWarning: `ray.rllib.utils.window_stat.WindowStat` has been deprecated. Use `ray.rllib.utils.metrics.window_stat.WindowStat` instead. This will raise an error in the future!\n",
      "\u001b[2m\u001b[36m(pid=1115)\u001b[0m 2021-12-09 14:35:03,272\tWARNING deprecation.py:45 -- DeprecationWarning: `ray.rllib.utils.window_stat.WindowStat` has been deprecated. Use `ray.rllib.utils.metrics.window_stat.WindowStat` instead. This will raise an error in the future!\n",
      "\u001b[2m\u001b[36m(RolloutWorker pid=1108)\u001b[0m 2021-12-09 14:35:03,406\tWARNING deprecation.py:45 -- DeprecationWarning: `rllib.env.remote_base_env.RemoteVectorEnv` has been deprecated. Use `ray.rllib.env.remote_base_env.RemoteBaseEnv` instead. This will raise an error in the future!\n",
      "\u001b[2m\u001b[36m(RolloutWorker pid=1115)\u001b[0m 2021-12-09 14:35:03,499\tWARNING deprecation.py:45 -- DeprecationWarning: `rllib.env.remote_base_env.RemoteVectorEnv` has been deprecated. Use `ray.rllib.env.remote_base_env.RemoteBaseEnv` instead. This will raise an error in the future!\n",
      "\u001b[2m\u001b[36m(PPO pid=1107)\u001b[0m 2021-12-09 14:35:03,611\tWARNING util.py:57 -- Install gputil for GPU system monitoring.\n"
     ]
    },
    {
     "data": {
      "text/html": [
       "== Status ==<br>Current time: 2021-12-09 14:35:04 (running for 00:00:05.28)<br>Memory usage on this node: 3.2/62.5 GiB<br>Using FIFO scheduling algorithm.<br>Resources requested: 3.0/12 CPUs, 0/1 GPUs, 0.0/45.48 GiB heap, 0.0/9.31 GiB objects<br>Result logdir: /home/condauser/ray_results/PPO<br>Number of trials: 1/1 (1 RUNNING)<br><br>"
      ],
      "text/plain": [
       "<IPython.core.display.HTML object>"
      ]
     },
     "metadata": {},
     "output_type": "display_data"
    },
    {
     "name": "stderr",
     "output_type": "stream",
     "text": [
      "\u001b[2m\u001b[36m(PPO pid=1107)\u001b[0m 2021-12-09 14:35:07,440\tWARNING deprecation.py:45 -- DeprecationWarning: `_get_slice_indices` has been deprecated. This will raise an error in the future!\n",
      "\u001b[2m\u001b[36m(PPO pid=1107)\u001b[0m 2021-12-09 14:35:07,443\tWARNING deprecation.py:45 -- DeprecationWarning: `slice` has been deprecated. Use `SampleBatch[start:stop]` instead. This will raise an error in the future!\n"
     ]
    },
    {
     "data": {
      "text/html": [
       "== Status ==<br>Current time: 2021-12-09 14:35:09 (running for 00:00:10.29)<br>Memory usage on this node: 3.2/62.5 GiB<br>Using FIFO scheduling algorithm.<br>Resources requested: 3.0/12 CPUs, 0/1 GPUs, 0.0/45.48 GiB heap, 0.0/9.31 GiB objects<br>Result logdir: /home/condauser/ray_results/PPO<br>Number of trials: 1/1 (1 RUNNING)<br><br>"
      ],
      "text/plain": [
       "<IPython.core.display.HTML object>"
      ]
     },
     "metadata": {},
     "output_type": "display_data"
    },
    {
     "name": "stdout",
     "output_type": "stream",
     "text": [
      "Trial PPO_StatelessPendulum_ce305_00000 reported episode_reward_max=nan,episode_reward_min=nan,episode_reward_mean=nan,episode_len_mean=nan,episode_media={},episodes_this_iter=0,policy_reward_min={},policy_reward_max={},policy_reward_mean={},custom_metrics={},sampler_perf={},off_policy_estimator={},num_healthy_workers=2,timesteps_this_iter=0,agent_timesteps_total=4000,timers={'sample_time_ms': 3829.51, 'sample_throughput': 1044.52, 'learn_time_ms': 4320.37, 'learn_throughput': 925.847, 'update_time_ms': 2.478},info={'learner': {'default_policy': {'learner_stats': {'allreduce_latency': 0.0, 'cur_kl_coeff': 0.19999999999999996, 'cur_lr': 5e-05, 'total_loss': 11.967570070786909, 'policy_loss': 0.025624675382718894, 'vf_loss': 119400.87341382576, 'vf_explained_var': 0.0015878088546521737, 'kl': 0.009291289999347379, 'entropy': 1.2064687035300514, 'entropy_coeff': 0.0}, 'model': {}, 'custom_metrics': {}}}, 'num_steps_sampled': 4000, 'num_agent_steps_sampled': 4000, 'num_steps_trained': 4000},perf={'cpu_util_percent': 16.441666666666666, 'ram_util_percent': 5.150000000000001} with parameters={'num_sgd_iter': 5, 'sgd_minibatch_size': 128, 'simple_optimizer': True, 'model': {'use_lstm': True, 'lstm_cell_size': 256, 'lstm_use_prev_action': True, 'lstm_use_prev_reward': True}, 'vf_loss_coeff': 0.0001, 'env': 'StatelessPendulum', 'num_gpus': 0, 'framework': 'torch'}.\n"
     ]
    },
    {
     "data": {
      "text/html": [
       "== Status ==<br>Current time: 2021-12-09 14:35:15 (running for 00:00:16.15)<br>Memory usage on this node: 3.2/62.5 GiB<br>Using FIFO scheduling algorithm.<br>Resources requested: 3.0/12 CPUs, 0/1 GPUs, 0.0/45.48 GiB heap, 0.0/9.31 GiB objects<br>Result logdir: /home/condauser/ray_results/PPO<br>Number of trials: 1/1 (1 RUNNING)<br><br>"
      ],
      "text/plain": [
       "<IPython.core.display.HTML object>"
      ]
     },
     "metadata": {},
     "output_type": "display_data"
    },
    {
     "name": "stdout",
     "output_type": "stream",
     "text": [
      "Trial PPO_StatelessPendulum_ce305_00000 reported episode_reward_max=nan,episode_reward_min=nan,episode_reward_mean=nan,episode_len_mean=nan,episode_media={},episodes_this_iter=0,policy_reward_min={},policy_reward_max={},policy_reward_mean={},custom_metrics={},sampler_perf={},off_policy_estimator={},num_healthy_workers=2,timesteps_this_iter=0,agent_timesteps_total=8000,timers={'sample_time_ms': 6100.037, 'sample_throughput': 655.734, 'learn_time_ms': 4252.824, 'learn_throughput': 940.551, 'update_time_ms': 2.363},info={'learner': {'default_policy': {'learner_stats': {'allreduce_latency': 0.0, 'cur_kl_coeff': 0.19999999999999996, 'cur_lr': 5e-05, 'total_loss': 12.090836409366492, 'policy_loss': 0.035774418372999536, 'vf_loss': 120528.66586174243, 'vf_explained_var': 0.004245922059723825, 'kl': 0.010978210507715726, 'entropy': 1.2338258078604034, 'entropy_coeff': 0.0}, 'model': {}, 'custom_metrics': {}}}, 'num_steps_sampled': 8000, 'num_agent_steps_sampled': 8000, 'num_steps_trained': 8000, 'num_steps_trained_this_iter': 0},perf={'cpu_util_percent': 16.45, 'ram_util_percent': 5.200000000000001} with parameters={'num_sgd_iter': 5, 'sgd_minibatch_size': 128, 'simple_optimizer': True, 'model': {'use_lstm': True, 'lstm_cell_size': 256, 'lstm_use_prev_action': True, 'lstm_use_prev_reward': True}, 'vf_loss_coeff': 0.0001, 'env': 'StatelessPendulum', 'num_gpus': 0, 'framework': 'torch'}.\n"
     ]
    },
    {
     "data": {
      "text/html": [
       "== Status ==<br>Current time: 2021-12-09 14:35:21 (running for 00:00:21.39)<br>Memory usage on this node: 3.2/62.5 GiB<br>Using FIFO scheduling algorithm.<br>Resources requested: 3.0/12 CPUs, 0/1 GPUs, 0.0/45.48 GiB heap, 0.0/9.31 GiB objects<br>Result logdir: /home/condauser/ray_results/PPO<br>Number of trials: 1/1 (1 RUNNING)<br><br>"
      ],
      "text/plain": [
       "<IPython.core.display.HTML object>"
      ]
     },
     "metadata": {},
     "output_type": "display_data"
    },
    {
     "data": {
      "text/html": [
       "== Status ==<br>Current time: 2021-12-09 14:35:26 (running for 00:00:26.40)<br>Memory usage on this node: 3.3/62.5 GiB<br>Using FIFO scheduling algorithm.<br>Resources requested: 3.0/12 CPUs, 0/1 GPUs, 0.0/45.48 GiB heap, 0.0/9.31 GiB objects<br>Result logdir: /home/condauser/ray_results/PPO<br>Number of trials: 1/1 (1 RUNNING)<br><br>"
      ],
      "text/plain": [
       "<IPython.core.display.HTML object>"
      ]
     },
     "metadata": {},
     "output_type": "display_data"
    },
    {
     "name": "stdout",
     "output_type": "stream",
     "text": [
      "Trial PPO_StatelessPendulum_ce305_00000 reported episode_reward_max=nan,episode_reward_min=nan,episode_reward_mean=nan,episode_len_mean=nan,episode_media={},episodes_this_iter=0,policy_reward_min={},policy_reward_max={},policy_reward_mean={},custom_metrics={},sampler_perf={},off_policy_estimator={},num_healthy_workers=2,timesteps_this_iter=0,agent_timesteps_total=12000,timers={'sample_time_ms': 6777.558, 'sample_throughput': 590.183, 'learn_time_ms': 4239.878, 'learn_throughput': 943.423, 'update_time_ms': 2.369},info={'learner': {'default_policy': {'learner_stats': {'allreduce_latency': 0.0, 'cur_kl_coeff': 0.19999999999999996, 'cur_lr': 5e-05, 'total_loss': 11.179909732125022, 'policy_loss': 0.031021384276788345, 'vf_loss': 111465.52897727273, 'vf_explained_var': -0.003942189072117661, 'kl': 0.01167905356410456, 'entropy': 1.1489107066934758, 'entropy_coeff': 0.0}, 'model': {}, 'custom_metrics': {}}}, 'num_steps_sampled': 12000, 'num_agent_steps_sampled': 12000, 'num_steps_trained': 12000, 'num_steps_trained_this_iter': 0},perf={'cpu_util_percent': 16.5, 'ram_util_percent': 5.200000000000001} with parameters={'num_sgd_iter': 5, 'sgd_minibatch_size': 128, 'simple_optimizer': True, 'model': {'use_lstm': True, 'lstm_cell_size': 256, 'lstm_use_prev_action': True, 'lstm_use_prev_reward': True}, 'vf_loss_coeff': 0.0001, 'env': 'StatelessPendulum', 'num_gpus': 0, 'framework': 'torch'}.\n"
     ]
    },
    {
     "data": {
      "text/html": [
       "== Status ==<br>Current time: 2021-12-09 14:35:31 (running for 00:00:31.55)<br>Memory usage on this node: 3.3/62.5 GiB<br>Using FIFO scheduling algorithm.<br>Resources requested: 3.0/12 CPUs, 0/1 GPUs, 0.0/45.48 GiB heap, 0.0/9.31 GiB objects<br>Result logdir: /home/condauser/ray_results/PPO<br>Number of trials: 1/1 (1 RUNNING)<br><br>"
      ],
      "text/plain": [
       "<IPython.core.display.HTML object>"
      ]
     },
     "metadata": {},
     "output_type": "display_data"
    },
    {
     "name": "stdout",
     "output_type": "stream",
     "text": [
      "Trial PPO_StatelessPendulum_ce305_00000 reported episode_reward_max=nan,episode_reward_min=nan,episode_reward_mean=nan,episode_len_mean=nan,episode_media={},episodes_this_iter=0,policy_reward_min={},policy_reward_max={},policy_reward_mean={},custom_metrics={},sampler_perf={},off_policy_estimator={},num_healthy_workers=2,timesteps_this_iter=0,agent_timesteps_total=16000,timers={'sample_time_ms': 7085.333, 'sample_throughput': 564.547, 'learn_time_ms': 4193.89, 'learn_throughput': 953.768, 'update_time_ms': 2.339},info={'learner': {'default_policy': {'learner_stats': {'allreduce_latency': 0.0, 'cur_kl_coeff': 0.19999999999999996, 'cur_lr': 5e-05, 'total_loss': 12.968038220839066, 'policy_loss': 0.0284602704373273, 'vf_loss': 129383.3165719697, 'vf_explained_var': -0.0007770122903766055, 'kl': 0.006232759871901448, 'entropy': 1.0871253627719302, 'entropy_coeff': 0.0}, 'model': {}, 'custom_metrics': {}}}, 'num_steps_sampled': 16000, 'num_agent_steps_sampled': 16000, 'num_steps_trained': 16000, 'num_steps_trained_this_iter': 0},perf={'cpu_util_percent': 16.936363636363634, 'ram_util_percent': 5.200000000000001} with parameters={'num_sgd_iter': 5, 'sgd_minibatch_size': 128, 'simple_optimizer': True, 'model': {'use_lstm': True, 'lstm_cell_size': 256, 'lstm_use_prev_action': True, 'lstm_use_prev_reward': True}, 'vf_loss_coeff': 0.0001, 'env': 'StatelessPendulum', 'num_gpus': 0, 'framework': 'torch'}.\n"
     ]
    },
    {
     "data": {
      "text/html": [
       "== Status ==<br>Current time: 2021-12-09 14:35:37 (running for 00:00:37.40)<br>Memory usage on this node: 3.3/62.5 GiB<br>Using FIFO scheduling algorithm.<br>Resources requested: 3.0/12 CPUs, 0/1 GPUs, 0.0/45.48 GiB heap, 0.0/9.31 GiB objects<br>Result logdir: /home/condauser/ray_results/PPO<br>Number of trials: 1/1 (1 RUNNING)<br><br>"
      ],
      "text/plain": [
       "<IPython.core.display.HTML object>"
      ]
     },
     "metadata": {},
     "output_type": "display_data"
    },
    {
     "data": {
      "text/html": [
       "== Status ==<br>Current time: 2021-12-09 14:35:42 (running for 00:00:42.41)<br>Memory usage on this node: 3.3/62.5 GiB<br>Using FIFO scheduling algorithm.<br>Resources requested: 3.0/12 CPUs, 0/1 GPUs, 0.0/45.48 GiB heap, 0.0/9.31 GiB objects<br>Result logdir: /home/condauser/ray_results/PPO<br>Number of trials: 1/1 (1 RUNNING)<br><br>"
      ],
      "text/plain": [
       "<IPython.core.display.HTML object>"
      ]
     },
     "metadata": {},
     "output_type": "display_data"
    },
    {
     "name": "stdout",
     "output_type": "stream",
     "text": [
      "Trial PPO_StatelessPendulum_ce305_00000 reported episode_reward_max=nan,episode_reward_min=nan,episode_reward_mean=nan,episode_len_mean=nan,episode_media={},episodes_this_iter=0,policy_reward_min={},policy_reward_max={},policy_reward_mean={},custom_metrics={},sampler_perf={},off_policy_estimator={},num_healthy_workers=2,timesteps_this_iter=0,agent_timesteps_total=20000,timers={'sample_time_ms': 7211.503, 'sample_throughput': 554.669, 'learn_time_ms': 4159.755, 'learn_throughput': 961.595, 'update_time_ms': 2.311},info={'learner': {'default_policy': {'learner_stats': {'allreduce_latency': 0.0, 'cur_kl_coeff': 0.19999999999999996, 'cur_lr': 5e-05, 'total_loss': 12.733311320796158, 'policy_loss': 0.02919377993905183, 'vf_loss': 127030.81441761364, 'vf_explained_var': -0.00017228668386285955, 'kl': 0.005182849029855706, 'entropy': 1.101795109835538, 'entropy_coeff': 0.0}, 'model': {}, 'custom_metrics': {}}}, 'num_steps_sampled': 20000, 'num_agent_steps_sampled': 20000, 'num_steps_trained': 20000, 'num_steps_trained_this_iter': 0},perf={'cpu_util_percent': 16.81818181818182, 'ram_util_percent': 5.200000000000001} with parameters={'num_sgd_iter': 5, 'sgd_minibatch_size': 128, 'simple_optimizer': True, 'model': {'use_lstm': True, 'lstm_cell_size': 256, 'lstm_use_prev_action': True, 'lstm_use_prev_reward': True}, 'vf_loss_coeff': 0.0001, 'env': 'StatelessPendulum', 'num_gpus': 0, 'framework': 'torch'}.\n"
     ]
    },
    {
     "data": {
      "text/html": [
       "== Status ==<br>Current time: 2021-12-09 14:35:47 (running for 00:00:48.08)<br>Memory usage on this node: 3.3/62.5 GiB<br>Using FIFO scheduling algorithm.<br>Resources requested: 3.0/12 CPUs, 0/1 GPUs, 0.0/45.48 GiB heap, 0.0/9.31 GiB objects<br>Result logdir: /home/condauser/ray_results/PPO<br>Number of trials: 1/1 (1 RUNNING)<br><br>"
      ],
      "text/plain": [
       "<IPython.core.display.HTML object>"
      ]
     },
     "metadata": {},
     "output_type": "display_data"
    },
    {
     "name": "stdout",
     "output_type": "stream",
     "text": [
      "Trial PPO_StatelessPendulum_ce305_00000 reported episode_reward_max=nan,episode_reward_min=nan,episode_reward_mean=nan,episode_len_mean=nan,episode_media={},episodes_this_iter=0,policy_reward_min={},policy_reward_max={},policy_reward_mean={},custom_metrics={},sampler_perf={},off_policy_estimator={},num_healthy_workers=2,timesteps_this_iter=0,agent_timesteps_total=24000,timers={'sample_time_ms': 7309.432, 'sample_throughput': 547.238, 'learn_time_ms': 4161.942, 'learn_throughput': 961.09, 'update_time_ms': 2.28},info={'learner': {'default_policy': {'learner_stats': {'allreduce_latency': 0.0, 'cur_kl_coeff': 0.19999999999999996, 'cur_lr': 5e-05, 'total_loss': 11.760948418125961, 'policy_loss': 0.022649290254621795, 'vf_loss': 117375.89292140151, 'vf_explained_var': -8.421305454138553e-05, 'kl': 0.0035502281227922225, 'entropy': 1.1013051502632372, 'entropy_coeff': 0.0}, 'model': {}, 'custom_metrics': {}}}, 'num_steps_sampled': 24000, 'num_agent_steps_sampled': 24000, 'num_steps_trained': 24000, 'num_steps_trained_this_iter': 0},perf={'cpu_util_percent': 16.50909090909091, 'ram_util_percent': 5.200000000000001} with parameters={'num_sgd_iter': 5, 'sgd_minibatch_size': 128, 'simple_optimizer': True, 'model': {'use_lstm': True, 'lstm_cell_size': 256, 'lstm_use_prev_action': True, 'lstm_use_prev_reward': True}, 'vf_loss_coeff': 0.0001, 'env': 'StatelessPendulum', 'num_gpus': 0, 'framework': 'torch'}.\n"
     ]
    },
    {
     "data": {
      "text/html": [
       "== Status ==<br>Current time: 2021-12-09 14:35:53 (running for 00:00:54.03)<br>Memory usage on this node: 3.3/62.5 GiB<br>Using FIFO scheduling algorithm.<br>Resources requested: 3.0/12 CPUs, 0/1 GPUs, 0.0/45.48 GiB heap, 0.0/9.31 GiB objects<br>Result logdir: /home/condauser/ray_results/PPO<br>Number of trials: 1/1 (1 RUNNING)<br><br>"
      ],
      "text/plain": [
       "<IPython.core.display.HTML object>"
      ]
     },
     "metadata": {},
     "output_type": "display_data"
    },
    {
     "data": {
      "text/html": [
       "== Status ==<br>Current time: 2021-12-09 14:35:58 (running for 00:00:59.04)<br>Memory usage on this node: 3.3/62.5 GiB<br>Using FIFO scheduling algorithm.<br>Resources requested: 3.0/12 CPUs, 0/1 GPUs, 0.0/45.48 GiB heap, 0.0/9.31 GiB objects<br>Result logdir: /home/condauser/ray_results/PPO<br>Number of trials: 1/1 (1 RUNNING)<br><br>"
      ],
      "text/plain": [
       "<IPython.core.display.HTML object>"
      ]
     },
     "metadata": {},
     "output_type": "display_data"
    },
    {
     "name": "stdout",
     "output_type": "stream",
     "text": [
      "Trial PPO_StatelessPendulum_ce305_00000 reported episode_reward_max=nan,episode_reward_min=nan,episode_reward_mean=nan,episode_len_mean=nan,episode_media={},episodes_this_iter=0,policy_reward_min={},policy_reward_max={},policy_reward_mean={},custom_metrics={},sampler_perf={},off_policy_estimator={},num_healthy_workers=2,timesteps_this_iter=0,agent_timesteps_total=28000,timers={'sample_time_ms': 7414.797, 'sample_throughput': 539.462, 'learn_time_ms': 4159.726, 'learn_throughput': 961.602, 'update_time_ms': 2.266},info={'learner': {'default_policy': {'learner_stats': {'allreduce_latency': 0.0, 'cur_kl_coeff': 0.09999999999999998, 'cur_lr': 5e-05, 'total_loss': 11.972091949347293, 'policy_loss': 0.02172802330530954, 'vf_loss': 119496.81455965909, 'vf_explained_var': -3.620566743792909e-05, 'kl': 0.006827161160508281, 'entropy': 1.1510068445494681, 'entropy_coeff': 0.0}, 'model': {}, 'custom_metrics': {}}}, 'num_steps_sampled': 28000, 'num_agent_steps_sampled': 28000, 'num_steps_trained': 28000, 'num_steps_trained_this_iter': 0},perf={'cpu_util_percent': 16.781818181818185, 'ram_util_percent': 5.200000000000001} with parameters={'num_sgd_iter': 5, 'sgd_minibatch_size': 128, 'simple_optimizer': True, 'model': {'use_lstm': True, 'lstm_cell_size': 256, 'lstm_use_prev_action': True, 'lstm_use_prev_reward': True}, 'vf_loss_coeff': 0.0001, 'env': 'StatelessPendulum', 'num_gpus': 0, 'framework': 'torch'}.\n"
     ]
    },
    {
     "data": {
      "text/html": [
       "== Status ==<br>Current time: 2021-12-09 14:36:03 (running for 00:01:04.06)<br>Memory usage on this node: 3.3/62.5 GiB<br>Using FIFO scheduling algorithm.<br>Resources requested: 3.0/12 CPUs, 0/1 GPUs, 0.0/45.48 GiB heap, 0.0/9.31 GiB objects<br>Result logdir: /home/condauser/ray_results/PPO<br>Number of trials: 1/1 (1 RUNNING)<br><br>"
      ],
      "text/plain": [
       "<IPython.core.display.HTML object>"
      ]
     },
     "metadata": {},
     "output_type": "display_data"
    },
    {
     "name": "stdout",
     "output_type": "stream",
     "text": [
      "Trial PPO_StatelessPendulum_ce305_00000 reported episode_reward_max=nan,episode_reward_min=nan,episode_reward_mean=nan,episode_len_mean=nan,episode_media={},episodes_this_iter=0,policy_reward_min={},policy_reward_max={},policy_reward_mean={},custom_metrics={},sampler_perf={},off_policy_estimator={},num_healthy_workers=2,timesteps_this_iter=0,agent_timesteps_total=32000,timers={'sample_time_ms': 7468.689, 'sample_throughput': 535.569, 'learn_time_ms': 4166.908, 'learn_throughput': 959.944, 'update_time_ms': 2.277},info={'learner': {'default_policy': {'learner_stats': {'allreduce_latency': 0.0, 'cur_kl_coeff': 0.09999999999999998, 'cur_lr': 5e-05, 'total_loss': 10.069404498013583, 'policy_loss': 0.03344017544930632, 'vf_loss': 100356.19914772727, 'vf_explained_var': 4.482630527380741e-06, 'kl': 0.0034472581487292966, 'entropy': 1.1721658085331772, 'entropy_coeff': 0.0}, 'model': {}, 'custom_metrics': {}}}, 'num_steps_sampled': 32000, 'num_agent_steps_sampled': 32000, 'num_steps_trained': 32000, 'num_steps_trained_this_iter': 0},perf={'cpu_util_percent': 16.35833333333333, 'ram_util_percent': 5.200000000000001} with parameters={'num_sgd_iter': 5, 'sgd_minibatch_size': 128, 'simple_optimizer': True, 'model': {'use_lstm': True, 'lstm_cell_size': 256, 'lstm_use_prev_action': True, 'lstm_use_prev_reward': True}, 'vf_loss_coeff': 0.0001, 'env': 'StatelessPendulum', 'num_gpus': 0, 'framework': 'torch'}.\n"
     ]
    },
    {
     "data": {
      "text/html": [
       "== Status ==<br>Current time: 2021-12-09 14:36:09 (running for 00:01:09.97)<br>Memory usage on this node: 3.3/62.5 GiB<br>Using FIFO scheduling algorithm.<br>Resources requested: 3.0/12 CPUs, 0/1 GPUs, 0.0/45.48 GiB heap, 0.0/9.31 GiB objects<br>Result logdir: /home/condauser/ray_results/PPO<br>Number of trials: 1/1 (1 RUNNING)<br><br>"
      ],
      "text/plain": [
       "<IPython.core.display.HTML object>"
      ]
     },
     "metadata": {},
     "output_type": "display_data"
    },
    {
     "data": {
      "text/html": [
       "== Status ==<br>Current time: 2021-12-09 14:36:14 (running for 00:01:14.98)<br>Memory usage on this node: 3.3/62.5 GiB<br>Using FIFO scheduling algorithm.<br>Resources requested: 3.0/12 CPUs, 0/1 GPUs, 0.0/45.48 GiB heap, 0.0/9.31 GiB objects<br>Result logdir: /home/condauser/ray_results/PPO<br>Number of trials: 1/1 (1 RUNNING)<br><br>"
      ],
      "text/plain": [
       "<IPython.core.display.HTML object>"
      ]
     },
     "metadata": {},
     "output_type": "display_data"
    },
    {
     "name": "stdout",
     "output_type": "stream",
     "text": [
      "Trial PPO_StatelessPendulum_ce305_00000 reported episode_reward_max=nan,episode_reward_min=nan,episode_reward_mean=nan,episode_len_mean=nan,episode_media={},episodes_this_iter=0,policy_reward_min={},policy_reward_max={},policy_reward_mean={},custom_metrics={},sampler_perf={},off_policy_estimator={},num_healthy_workers=2,timesteps_this_iter=0,agent_timesteps_total=36000,timers={'sample_time_ms': 7534.374, 'sample_throughput': 530.9, 'learn_time_ms': 4162.39, 'learn_throughput': 960.986, 'update_time_ms': 2.255},info={'learner': {'default_policy': {'learner_stats': {'allreduce_latency': 0.0, 'cur_kl_coeff': 0.04999999999999999, 'cur_lr': 5e-05, 'total_loss': 10.100872429934414, 'policy_loss': 0.02703474255448038, 'vf_loss': 100736.57964015151, 'vf_explained_var': 5.287835092255564e-06, 'kl': 0.003602371192083749, 'entropy': 1.182693695299553, 'entropy_coeff': 0.0}, 'model': {}, 'custom_metrics': {}}}, 'num_steps_sampled': 36000, 'num_agent_steps_sampled': 36000, 'num_steps_trained': 36000, 'num_steps_trained_this_iter': 0},perf={'cpu_util_percent': 16.936363636363637, 'ram_util_percent': 5.200000000000001} with parameters={'num_sgd_iter': 5, 'sgd_minibatch_size': 128, 'simple_optimizer': True, 'model': {'use_lstm': True, 'lstm_cell_size': 256, 'lstm_use_prev_action': True, 'lstm_use_prev_reward': True}, 'vf_loss_coeff': 0.0001, 'env': 'StatelessPendulum', 'num_gpus': 0, 'framework': 'torch'}.\n"
     ]
    },
    {
     "data": {
      "text/html": [
       "== Status ==<br>Current time: 2021-12-09 14:36:20 (running for 00:01:20.94)<br>Memory usage on this node: 3.3/62.5 GiB<br>Using FIFO scheduling algorithm.<br>Resources requested: 3.0/12 CPUs, 0/1 GPUs, 0.0/45.48 GiB heap, 0.0/9.31 GiB objects<br>Result logdir: /home/condauser/ray_results/PPO<br>Number of trials: 1/1 (1 RUNNING)<br><br>"
      ],
      "text/plain": [
       "<IPython.core.display.HTML object>"
      ]
     },
     "metadata": {},
     "output_type": "display_data"
    },
    {
     "name": "stdout",
     "output_type": "stream",
     "text": [
      "Trial PPO_StatelessPendulum_ce305_00000 reported episode_reward_max=nan,episode_reward_min=nan,episode_reward_mean=nan,episode_len_mean=nan,episode_media={},episodes_this_iter=0,policy_reward_min={},policy_reward_max={},policy_reward_mean={},custom_metrics={},sampler_perf={},off_policy_estimator={},num_healthy_workers=2,timesteps_this_iter=0,agent_timesteps_total=40000,timers={'sample_time_ms': 7586.82, 'sample_throughput': 527.23, 'learn_time_ms': 4168.265, 'learn_throughput': 959.632, 'update_time_ms': 2.256},info={'learner': {'default_policy': {'learner_stats': {'allreduce_latency': 0.0, 'cur_kl_coeff': 0.024999999999999994, 'cur_lr': 5e-05, 'total_loss': 10.013240753520618, 'policy_loss': 0.027151027062174045, 'vf_loss': 99859.10490056819, 'vf_explained_var': 4.741856546112985e-05, 'kl': 0.007181683168628307, 'entropy': 1.1170763102444736, 'entropy_coeff': 0.0}, 'model': {}, 'custom_metrics': {}}}, 'num_steps_sampled': 40000, 'num_agent_steps_sampled': 40000, 'num_steps_trained': 40000, 'num_steps_trained_this_iter': 0},perf={'cpu_util_percent': 16.483333333333334, 'ram_util_percent': 5.200000000000001} with parameters={'num_sgd_iter': 5, 'sgd_minibatch_size': 128, 'simple_optimizer': True, 'model': {'use_lstm': True, 'lstm_cell_size': 256, 'lstm_use_prev_action': True, 'lstm_use_prev_reward': True}, 'vf_loss_coeff': 0.0001, 'env': 'StatelessPendulum', 'num_gpus': 0, 'framework': 'torch'}.\n"
     ]
    },
    {
     "data": {
      "text/html": [
       "== Status ==<br>Current time: 2021-12-09 14:36:25 (running for 00:01:26.09)<br>Memory usage on this node: 3.3/62.5 GiB<br>Using FIFO scheduling algorithm.<br>Resources requested: 3.0/12 CPUs, 0/1 GPUs, 0.0/45.48 GiB heap, 0.0/9.31 GiB objects<br>Result logdir: /home/condauser/ray_results/PPO<br>Number of trials: 1/1 (1 RUNNING)<br><br>"
      ],
      "text/plain": [
       "<IPython.core.display.HTML object>"
      ]
     },
     "metadata": {},
     "output_type": "display_data"
    },
    {
     "data": {
      "text/html": [
       "== Status ==<br>Current time: 2021-12-09 14:36:30 (running for 00:01:31.10)<br>Memory usage on this node: 3.3/62.5 GiB<br>Using FIFO scheduling algorithm.<br>Resources requested: 3.0/12 CPUs, 0/1 GPUs, 0.0/45.48 GiB heap, 0.0/9.31 GiB objects<br>Result logdir: /home/condauser/ray_results/PPO<br>Number of trials: 1/1 (1 RUNNING)<br><br>"
      ],
      "text/plain": [
       "<IPython.core.display.HTML object>"
      ]
     },
     "metadata": {},
     "output_type": "display_data"
    },
    {
     "name": "stdout",
     "output_type": "stream",
     "text": [
      "Trial PPO_StatelessPendulum_ce305_00000 reported episode_reward_max=nan,episode_reward_min=nan,episode_reward_mean=nan,episode_len_mean=nan,episode_media={},episodes_this_iter=0,policy_reward_min={},policy_reward_max={},policy_reward_mean={},custom_metrics={},sampler_perf={},off_policy_estimator={},num_healthy_workers=2,timesteps_this_iter=0,agent_timesteps_total=44000,timers={'sample_time_ms': 8002.316, 'sample_throughput': 499.855, 'learn_time_ms': 4156.095, 'learn_throughput': 962.442, 'update_time_ms': 2.217},info={'learner': {'default_policy': {'learner_stats': {'allreduce_latency': 0.0, 'cur_kl_coeff': 0.024999999999999994, 'cur_lr': 5e-05, 'total_loss': 9.870027484315814, 'policy_loss': 0.027586115529817164, 'vf_loss': 98423.72961647727, 'vf_explained_var': -3.437417926210346e-05, 'kl': 0.0027472872610711766, 'entropy': 1.0748236334685124, 'entropy_coeff': 0.0}, 'model': {}, 'custom_metrics': {}}}, 'num_steps_sampled': 44000, 'num_agent_steps_sampled': 44000, 'num_steps_trained': 44000, 'num_steps_trained_this_iter': 0},perf={'cpu_util_percent': 16.590909090909093, 'ram_util_percent': 5.200000000000001} with parameters={'num_sgd_iter': 5, 'sgd_minibatch_size': 128, 'simple_optimizer': True, 'model': {'use_lstm': True, 'lstm_cell_size': 256, 'lstm_use_prev_action': True, 'lstm_use_prev_reward': True}, 'vf_loss_coeff': 0.0001, 'env': 'StatelessPendulum', 'num_gpus': 0, 'framework': 'torch'}.\n"
     ]
    },
    {
     "data": {
      "text/html": [
       "== Status ==<br>Current time: 2021-12-09 14:36:36 (running for 00:01:37.06)<br>Memory usage on this node: 3.3/62.5 GiB<br>Using FIFO scheduling algorithm.<br>Resources requested: 3.0/12 CPUs, 0/1 GPUs, 0.0/45.48 GiB heap, 0.0/9.31 GiB objects<br>Result logdir: /home/condauser/ray_results/PPO<br>Number of trials: 1/1 (1 RUNNING)<br><br>"
      ],
      "text/plain": [
       "<IPython.core.display.HTML object>"
      ]
     },
     "metadata": {},
     "output_type": "display_data"
    },
    {
     "name": "stdout",
     "output_type": "stream",
     "text": [
      "Trial PPO_StatelessPendulum_ce305_00000 reported episode_reward_max=nan,episode_reward_min=nan,episode_reward_mean=nan,episode_len_mean=nan,episode_media={},episodes_this_iter=0,policy_reward_min={},policy_reward_max={},policy_reward_mean={},custom_metrics={},sampler_perf={},off_policy_estimator={},num_healthy_workers=2,timesteps_this_iter=0,agent_timesteps_total=48000,timers={'sample_time_ms': 7961.398, 'sample_throughput': 502.424, 'learn_time_ms': 4153.858, 'learn_throughput': 962.96, 'update_time_ms': 2.218},info={'learner': {'default_policy': {'learner_stats': {'allreduce_latency': 0.0, 'cur_kl_coeff': 0.012499999999999997, 'cur_lr': 5e-05, 'total_loss': 10.009270526423599, 'policy_loss': 0.02945340009349765, 'vf_loss': 99797.56001420454, 'vf_explained_var': 4.647717331395004e-06, 'kl': 0.00491361911229676, 'entropy': 1.1054355469616977, 'entropy_coeff': 0.0}, 'model': {}, 'custom_metrics': {}}}, 'num_steps_sampled': 48000, 'num_agent_steps_sampled': 48000, 'num_steps_trained': 48000, 'num_steps_trained_this_iter': 0},perf={'cpu_util_percent': 16.863636363636363, 'ram_util_percent': 5.200000000000001} with parameters={'num_sgd_iter': 5, 'sgd_minibatch_size': 128, 'simple_optimizer': True, 'model': {'use_lstm': True, 'lstm_cell_size': 256, 'lstm_use_prev_action': True, 'lstm_use_prev_reward': True}, 'vf_loss_coeff': 0.0001, 'env': 'StatelessPendulum', 'num_gpus': 0, 'framework': 'torch'}.\n"
     ]
    },
    {
     "data": {
      "text/html": [
       "== Status ==<br>Current time: 2021-12-09 14:36:42 (running for 00:01:42.98)<br>Memory usage on this node: 3.3/62.5 GiB<br>Using FIFO scheduling algorithm.<br>Resources requested: 3.0/12 CPUs, 0/1 GPUs, 0.0/45.48 GiB heap, 0.0/9.31 GiB objects<br>Result logdir: /home/condauser/ray_results/PPO<br>Number of trials: 1/1 (1 RUNNING)<br><br>"
      ],
      "text/plain": [
       "<IPython.core.display.HTML object>"
      ]
     },
     "metadata": {},
     "output_type": "display_data"
    },
    {
     "name": "stdout",
     "output_type": "stream",
     "text": [
      "Trial PPO_StatelessPendulum_ce305_00000 reported episode_reward_max=nan,episode_reward_min=nan,episode_reward_mean=nan,episode_len_mean=nan,episode_media={},episodes_this_iter=0,policy_reward_min={},policy_reward_max={},policy_reward_mean={},custom_metrics={},sampler_perf={},off_policy_estimator={},num_healthy_workers=2,timesteps_this_iter=0,agent_timesteps_total=52000,timers={'sample_time_ms': 7936.552, 'sample_throughput': 503.997, 'learn_time_ms': 4141.555, 'learn_throughput': 965.821, 'update_time_ms': 2.259},info={'learner': {'default_policy': {'learner_stats': {'allreduce_latency': 0.0, 'cur_kl_coeff': 0.006249999999999999, 'cur_lr': 5e-05, 'total_loss': 9.016809475060665, 'policy_loss': 0.02496666511040971, 'vf_loss': 89918.11503314394, 'vf_explained_var': -4.016738949400006e-05, 'kl': 0.005049980648156382, 'entropy': 1.0688065474683588, 'entropy_coeff': 0.0}, 'model': {}, 'custom_metrics': {}}}, 'num_steps_sampled': 52000, 'num_agent_steps_sampled': 52000, 'num_steps_trained': 52000, 'num_steps_trained_this_iter': 0},perf={'cpu_util_percent': 16.11666666666667, 'ram_util_percent': 5.200000000000001} with parameters={'num_sgd_iter': 5, 'sgd_minibatch_size': 128, 'simple_optimizer': True, 'model': {'use_lstm': True, 'lstm_cell_size': 256, 'lstm_use_prev_action': True, 'lstm_use_prev_reward': True}, 'vf_loss_coeff': 0.0001, 'env': 'StatelessPendulum', 'num_gpus': 0, 'framework': 'torch'}.\n"
     ]
    },
    {
     "data": {
      "text/html": [
       "== Status ==<br>Current time: 2021-12-09 14:36:48 (running for 00:01:48.79)<br>Memory usage on this node: 3.3/62.5 GiB<br>Using FIFO scheduling algorithm.<br>Resources requested: 3.0/12 CPUs, 0/1 GPUs, 0.0/45.48 GiB heap, 0.0/9.31 GiB objects<br>Result logdir: /home/condauser/ray_results/PPO<br>Number of trials: 1/1 (1 RUNNING)<br><br>"
      ],
      "text/plain": [
       "<IPython.core.display.HTML object>"
      ]
     },
     "metadata": {},
     "output_type": "display_data"
    },
    {
     "data": {
      "text/html": [
       "== Status ==<br>Current time: 2021-12-09 14:36:53 (running for 00:01:53.80)<br>Memory usage on this node: 3.3/62.5 GiB<br>Using FIFO scheduling algorithm.<br>Resources requested: 3.0/12 CPUs, 0/1 GPUs, 0.0/45.48 GiB heap, 0.0/9.31 GiB objects<br>Result logdir: /home/condauser/ray_results/PPO<br>Number of trials: 1/1 (1 RUNNING)<br><br>"
      ],
      "text/plain": [
       "<IPython.core.display.HTML object>"
      ]
     },
     "metadata": {},
     "output_type": "display_data"
    },
    {
     "name": "stdout",
     "output_type": "stream",
     "text": [
      "Trial PPO_StatelessPendulum_ce305_00000 reported episode_reward_max=nan,episode_reward_min=nan,episode_reward_mean=nan,episode_len_mean=nan,episode_media={},episodes_this_iter=0,policy_reward_min={},policy_reward_max={},policy_reward_mean={},custom_metrics={},sampler_perf={},off_policy_estimator={},num_healthy_workers=2,timesteps_this_iter=0,agent_timesteps_total=56000,timers={'sample_time_ms': 7940.821, 'sample_throughput': 503.726, 'learn_time_ms': 4141.67, 'learn_throughput': 965.794, 'update_time_ms': 2.265},info={'learner': {'default_policy': {'learner_stats': {'allreduce_latency': 0.0, 'cur_kl_coeff': 0.006249999999999999, 'cur_lr': 5e-05, 'total_loss': 9.561970836466008, 'policy_loss': 0.02693808215077628, 'vf_loss': 95350.01453598485, 'vf_explained_var': 1.72745097767223e-06, 'kl': 0.005049899711859057, 'entropy': 1.0873664603088842, 'entropy_coeff': 0.0}, 'model': {}, 'custom_metrics': {}}}, 'num_steps_sampled': 56000, 'num_agent_steps_sampled': 56000, 'num_steps_trained': 56000, 'num_steps_trained_this_iter': 0},perf={'cpu_util_percent': 16.463636363636365, 'ram_util_percent': 5.200000000000001} with parameters={'num_sgd_iter': 5, 'sgd_minibatch_size': 128, 'simple_optimizer': True, 'model': {'use_lstm': True, 'lstm_cell_size': 256, 'lstm_use_prev_action': True, 'lstm_use_prev_reward': True}, 'vf_loss_coeff': 0.0001, 'env': 'StatelessPendulum', 'num_gpus': 0, 'framework': 'torch'}.\n"
     ]
    },
    {
     "data": {
      "text/html": [
       "== Status ==<br>Current time: 2021-12-09 14:36:58 (running for 00:01:58.81)<br>Memory usage on this node: 3.3/62.5 GiB<br>Using FIFO scheduling algorithm.<br>Resources requested: 3.0/12 CPUs, 0/1 GPUs, 0.0/45.48 GiB heap, 0.0/9.31 GiB objects<br>Result logdir: /home/condauser/ray_results/PPO<br>Number of trials: 1/1 (1 RUNNING)<br><br>"
      ],
      "text/plain": [
       "<IPython.core.display.HTML object>"
      ]
     },
     "metadata": {},
     "output_type": "display_data"
    },
    {
     "data": {
      "text/html": [
       "== Status ==<br>Current time: 2021-12-09 14:37:03 (running for 00:02:03.82)<br>Memory usage on this node: 3.3/62.5 GiB<br>Using FIFO scheduling algorithm.<br>Resources requested: 3.0/12 CPUs, 0/1 GPUs, 0.0/45.48 GiB heap, 0.0/9.31 GiB objects<br>Result logdir: /home/condauser/ray_results/PPO<br>Number of trials: 1/1 (1 RUNNING)<br><br>"
      ],
      "text/plain": [
       "<IPython.core.display.HTML object>"
      ]
     },
     "metadata": {},
     "output_type": "display_data"
    },
    {
     "name": "stdout",
     "output_type": "stream",
     "text": [
      "Trial PPO_StatelessPendulum_ce305_00000 reported episode_reward_max=nan,episode_reward_min=nan,episode_reward_mean=nan,episode_len_mean=nan,episode_media={},episodes_this_iter=0,policy_reward_min={},policy_reward_max={},policy_reward_mean={},custom_metrics={},sampler_perf={},off_policy_estimator={},num_healthy_workers=2,timesteps_this_iter=0,agent_timesteps_total=60000,timers={'sample_time_ms': 7964.698, 'sample_throughput': 502.216, 'learn_time_ms': 4159.794, 'learn_throughput': 961.586, 'update_time_ms': 2.263},info={'learner': {'default_policy': {'learner_stats': {'allreduce_latency': 0.0, 'cur_kl_coeff': 0.006249999999999999, 'cur_lr': 5e-05, 'total_loss': 9.117169422091859, 'policy_loss': 0.025854801234196534, 'vf_loss': 90912.50828598485, 'vf_explained_var': 1.9561883175011837e-05, 'kl': 0.010253446353565013, 'entropy': 1.0902643644448482, 'entropy_coeff': 0.0}, 'model': {}, 'custom_metrics': {}}}, 'num_steps_sampled': 60000, 'num_agent_steps_sampled': 60000, 'num_steps_trained': 60000, 'num_steps_trained_this_iter': 0},perf={'cpu_util_percent': 16.216666666666665, 'ram_util_percent': 5.200000000000001} with parameters={'num_sgd_iter': 5, 'sgd_minibatch_size': 128, 'simple_optimizer': True, 'model': {'use_lstm': True, 'lstm_cell_size': 256, 'lstm_use_prev_action': True, 'lstm_use_prev_reward': True}, 'vf_loss_coeff': 0.0001, 'env': 'StatelessPendulum', 'num_gpus': 0, 'framework': 'torch'}.\n"
     ]
    },
    {
     "data": {
      "text/html": [
       "== Status ==<br>Current time: 2021-12-09 14:37:08 (running for 00:02:08.92)<br>Memory usage on this node: 3.3/62.5 GiB<br>Using FIFO scheduling algorithm.<br>Resources requested: 3.0/12 CPUs, 0/1 GPUs, 0.0/45.48 GiB heap, 0.0/9.31 GiB objects<br>Result logdir: /home/condauser/ray_results/PPO<br>Number of trials: 1/1 (1 RUNNING)<br><br>"
      ],
      "text/plain": [
       "<IPython.core.display.HTML object>"
      ]
     },
     "metadata": {},
     "output_type": "display_data"
    },
    {
     "name": "stdout",
     "output_type": "stream",
     "text": [
      "Trial PPO_StatelessPendulum_ce305_00000 reported episode_reward_max=nan,episode_reward_min=nan,episode_reward_mean=nan,episode_len_mean=nan,episode_media={},episodes_this_iter=0,policy_reward_min={},policy_reward_max={},policy_reward_mean={},custom_metrics={},sampler_perf={},off_policy_estimator={},num_healthy_workers=2,timesteps_this_iter=0,agent_timesteps_total=64000,timers={'sample_time_ms': 7981.318, 'sample_throughput': 501.17, 'learn_time_ms': 4151.477, 'learn_throughput': 963.513, 'update_time_ms': 2.278},info={'learner': {'default_policy': {'learner_stats': {'allreduce_latency': 0.0, 'cur_kl_coeff': 0.006249999999999999, 'cur_lr': 5e-05, 'total_loss': 7.656306658369122, 'policy_loss': 0.0289711313717293, 'vf_loss': 76272.9757220644, 'vf_explained_var': -2.7779376868045693e-06, 'kl': 0.00610656323200695, 'entropy': 1.0810565962935939, 'entropy_coeff': 0.0}, 'model': {}, 'custom_metrics': {}}}, 'num_steps_sampled': 64000, 'num_agent_steps_sampled': 64000, 'num_steps_trained': 64000, 'num_steps_trained_this_iter': 0},perf={'cpu_util_percent': 16.700000000000003, 'ram_util_percent': 5.200000000000001} with parameters={'num_sgd_iter': 5, 'sgd_minibatch_size': 128, 'simple_optimizer': True, 'model': {'use_lstm': True, 'lstm_cell_size': 256, 'lstm_use_prev_action': True, 'lstm_use_prev_reward': True}, 'vf_loss_coeff': 0.0001, 'env': 'StatelessPendulum', 'num_gpus': 0, 'framework': 'torch'}.\n"
     ]
    },
    {
     "data": {
      "text/html": [
       "== Status ==<br>Current time: 2021-12-09 14:37:14 (running for 00:02:14.76)<br>Memory usage on this node: 3.3/62.5 GiB<br>Using FIFO scheduling algorithm.<br>Resources requested: 3.0/12 CPUs, 0/1 GPUs, 0.0/45.48 GiB heap, 0.0/9.31 GiB objects<br>Result logdir: /home/condauser/ray_results/PPO<br>Number of trials: 1/1 (1 RUNNING)<br><br>"
      ],
      "text/plain": [
       "<IPython.core.display.HTML object>"
      ]
     },
     "metadata": {},
     "output_type": "display_data"
    },
    {
     "data": {
      "text/html": [
       "== Status ==<br>Current time: 2021-12-09 14:37:19 (running for 00:02:19.77)<br>Memory usage on this node: 3.3/62.5 GiB<br>Using FIFO scheduling algorithm.<br>Resources requested: 3.0/12 CPUs, 0/1 GPUs, 0.0/45.48 GiB heap, 0.0/9.31 GiB objects<br>Result logdir: /home/condauser/ray_results/PPO<br>Number of trials: 1/1 (1 RUNNING)<br><br>"
      ],
      "text/plain": [
       "<IPython.core.display.HTML object>"
      ]
     },
     "metadata": {},
     "output_type": "display_data"
    },
    {
     "name": "stdout",
     "output_type": "stream",
     "text": [
      "Trial PPO_StatelessPendulum_ce305_00000 reported episode_reward_max=nan,episode_reward_min=nan,episode_reward_mean=nan,episode_len_mean=nan,episode_media={},episodes_this_iter=0,policy_reward_min={},policy_reward_max={},policy_reward_mean={},custom_metrics={},sampler_perf={},off_policy_estimator={},num_healthy_workers=2,timesteps_this_iter=0,agent_timesteps_total=68000,timers={'sample_time_ms': 7985.096, 'sample_throughput': 500.933, 'learn_time_ms': 4145.993, 'learn_throughput': 964.787, 'update_time_ms': 2.262},info={'learner': {'default_policy': {'learner_stats': {'allreduce_latency': 0.0, 'cur_kl_coeff': 0.006249999999999999, 'cur_lr': 5e-05, 'total_loss': 6.7856757915381225, 'policy_loss': 0.016987755798706504, 'vf_loss': 67686.56678503788, 'vf_explained_var': 4.8502286275227865e-05, 'kl': 0.005044563717363174, 'entropy': 1.0862347588394627, 'entropy_coeff': 0.0}, 'model': {}, 'custom_metrics': {}}}, 'num_steps_sampled': 68000, 'num_agent_steps_sampled': 68000, 'num_steps_trained': 68000, 'num_steps_trained_this_iter': 0},perf={'cpu_util_percent': 16.663636363636364, 'ram_util_percent': 5.200000000000001} with parameters={'num_sgd_iter': 5, 'sgd_minibatch_size': 128, 'simple_optimizer': True, 'model': {'use_lstm': True, 'lstm_cell_size': 256, 'lstm_use_prev_action': True, 'lstm_use_prev_reward': True}, 'vf_loss_coeff': 0.0001, 'env': 'StatelessPendulum', 'num_gpus': 0, 'framework': 'torch'}.\n"
     ]
    },
    {
     "data": {
      "text/html": [
       "== Status ==<br>Current time: 2021-12-09 14:37:24 (running for 00:02:24.84)<br>Memory usage on this node: 3.3/62.5 GiB<br>Using FIFO scheduling algorithm.<br>Resources requested: 3.0/12 CPUs, 0/1 GPUs, 0.0/45.48 GiB heap, 0.0/9.31 GiB objects<br>Result logdir: /home/condauser/ray_results/PPO<br>Number of trials: 1/1 (1 RUNNING)<br><br>"
      ],
      "text/plain": [
       "<IPython.core.display.HTML object>"
      ]
     },
     "metadata": {},
     "output_type": "display_data"
    },
    {
     "name": "stdout",
     "output_type": "stream",
     "text": [
      "Trial PPO_StatelessPendulum_ce305_00000 reported episode_reward_max=nan,episode_reward_min=nan,episode_reward_mean=nan,episode_len_mean=nan,episode_media={},episodes_this_iter=0,policy_reward_min={},policy_reward_max={},policy_reward_mean={},custom_metrics={},sampler_perf={},off_policy_estimator={},num_healthy_workers=2,timesteps_this_iter=0,agent_timesteps_total=72000,timers={'sample_time_ms': 8027.26, 'sample_throughput': 498.302, 'learn_time_ms': 4140.513, 'learn_throughput': 966.064, 'update_time_ms': 2.237},info={'learner': {'default_policy': {'learner_stats': {'allreduce_latency': 0.0, 'cur_kl_coeff': 0.006249999999999999, 'cur_lr': 5e-05, 'total_loss': 7.055728327144276, 'policy_loss': 0.025546492331407288, 'vf_loss': 70301.44382102272, 'vf_explained_var': 7.155122178973574e-05, 'kl': 0.0060151863851700006, 'entropy': 1.0381105910647999, 'entropy_coeff': 0.0}, 'model': {}, 'custom_metrics': {}}}, 'num_steps_sampled': 72000, 'num_agent_steps_sampled': 72000, 'num_steps_trained': 72000, 'num_steps_trained_this_iter': 0},perf={'cpu_util_percent': 16.48333333333333, 'ram_util_percent': 5.200000000000001} with parameters={'num_sgd_iter': 5, 'sgd_minibatch_size': 128, 'simple_optimizer': True, 'model': {'use_lstm': True, 'lstm_cell_size': 256, 'lstm_use_prev_action': True, 'lstm_use_prev_reward': True}, 'vf_loss_coeff': 0.0001, 'env': 'StatelessPendulum', 'num_gpus': 0, 'framework': 'torch'}.\n"
     ]
    },
    {
     "data": {
      "text/html": [
       "== Status ==<br>Current time: 2021-12-09 14:37:29 (running for 00:02:30.18)<br>Memory usage on this node: 3.3/62.5 GiB<br>Using FIFO scheduling algorithm.<br>Resources requested: 3.0/12 CPUs, 0/1 GPUs, 0.0/45.48 GiB heap, 0.0/9.31 GiB objects<br>Result logdir: /home/condauser/ray_results/PPO<br>Number of trials: 1/1 (1 RUNNING)<br><br>"
      ],
      "text/plain": [
       "<IPython.core.display.HTML object>"
      ]
     },
     "metadata": {},
     "output_type": "display_data"
    },
    {
     "data": {
      "text/html": [
       "== Status ==<br>Current time: 2021-12-09 14:37:34 (running for 00:02:35.19)<br>Memory usage on this node: 3.3/62.5 GiB<br>Using FIFO scheduling algorithm.<br>Resources requested: 3.0/12 CPUs, 0/1 GPUs, 0.0/45.48 GiB heap, 0.0/9.31 GiB objects<br>Result logdir: /home/condauser/ray_results/PPO<br>Number of trials: 1/1 (1 RUNNING)<br><br>"
      ],
      "text/plain": [
       "<IPython.core.display.HTML object>"
      ]
     },
     "metadata": {},
     "output_type": "display_data"
    },
    {
     "name": "stdout",
     "output_type": "stream",
     "text": [
      "Trial PPO_StatelessPendulum_ce305_00000 reported episode_reward_max=nan,episode_reward_min=nan,episode_reward_mean=nan,episode_len_mean=nan,episode_media={},episodes_this_iter=0,policy_reward_min={},policy_reward_max={},policy_reward_mean={},custom_metrics={},sampler_perf={},off_policy_estimator={},num_healthy_workers=2,timesteps_this_iter=0,agent_timesteps_total=76000,timers={'sample_time_ms': 8030.146, 'sample_throughput': 498.123, 'learn_time_ms': 4155.001, 'learn_throughput': 962.695, 'update_time_ms': 2.247},info={'learner': {'default_policy': {'learner_stats': {'allreduce_latency': 0.0, 'cur_kl_coeff': 0.006249999999999999, 'cur_lr': 5e-05, 'total_loss': 5.918443610451439, 'policy_loss': 0.02444724233990366, 'vf_loss': 58939.523508522725, 'vf_explained_var': 1.241582812684955e-05, 'kl': 0.007058836750300837, 'entropy': 1.0107924663659298, 'entropy_coeff': 0.0}, 'model': {}, 'custom_metrics': {}}}, 'num_steps_sampled': 76000, 'num_agent_steps_sampled': 76000, 'num_steps_trained': 76000, 'num_steps_trained_this_iter': 0},perf={'cpu_util_percent': 16.21666666666667, 'ram_util_percent': 5.200000000000001} with parameters={'num_sgd_iter': 5, 'sgd_minibatch_size': 128, 'simple_optimizer': True, 'model': {'use_lstm': True, 'lstm_cell_size': 256, 'lstm_use_prev_action': True, 'lstm_use_prev_reward': True}, 'vf_loss_coeff': 0.0001, 'env': 'StatelessPendulum', 'num_gpus': 0, 'framework': 'torch'}.\n"
     ]
    },
    {
     "data": {
      "text/html": [
       "== Status ==<br>Current time: 2021-12-09 14:37:40 (running for 00:02:40.39)<br>Memory usage on this node: 3.3/62.5 GiB<br>Using FIFO scheduling algorithm.<br>Resources requested: 3.0/12 CPUs, 0/1 GPUs, 0.0/45.48 GiB heap, 0.0/9.31 GiB objects<br>Result logdir: /home/condauser/ray_results/PPO<br>Number of trials: 1/1 (1 RUNNING)<br><br>"
      ],
      "text/plain": [
       "<IPython.core.display.HTML object>"
      ]
     },
     "metadata": {},
     "output_type": "display_data"
    },
    {
     "name": "stdout",
     "output_type": "stream",
     "text": [
      "Trial PPO_StatelessPendulum_ce305_00000 reported episode_reward_max=nan,episode_reward_min=nan,episode_reward_mean=nan,episode_len_mean=nan,episode_media={},episodes_this_iter=0,policy_reward_min={},policy_reward_max={},policy_reward_mean={},custom_metrics={},sampler_perf={},off_policy_estimator={},num_healthy_workers=2,timesteps_this_iter=0,agent_timesteps_total=80000,timers={'sample_time_ms': 8016.339, 'sample_throughput': 498.981, 'learn_time_ms': 4144.318, 'learn_throughput': 965.177, 'update_time_ms': 2.248},info={'learner': {'default_policy': {'learner_stats': {'allreduce_latency': 0.0, 'cur_kl_coeff': 0.006249999999999999, 'cur_lr': 5e-05, 'total_loss': 6.098720208081332, 'policy_loss': 0.024597947048305563, 'vf_loss': 60740.894294507576, 'vf_explained_var': -5.319551988081499e-05, 'kl': 0.005274355254893303, 'entropy': 0.9892216046651204, 'entropy_coeff': 0.0}, 'model': {}, 'custom_metrics': {}}}, 'num_steps_sampled': 80000, 'num_agent_steps_sampled': 80000, 'num_steps_trained': 80000, 'num_steps_trained_this_iter': 0},perf={'cpu_util_percent': 16.68181818181818, 'ram_util_percent': 5.200000000000001} with parameters={'num_sgd_iter': 5, 'sgd_minibatch_size': 128, 'simple_optimizer': True, 'model': {'use_lstm': True, 'lstm_cell_size': 256, 'lstm_use_prev_action': True, 'lstm_use_prev_reward': True}, 'vf_loss_coeff': 0.0001, 'env': 'StatelessPendulum', 'num_gpus': 0, 'framework': 'torch'}.\n"
     ]
    },
    {
     "data": {
      "text/html": [
       "== Status ==<br>Current time: 2021-12-09 14:37:45 (running for 00:02:46.14)<br>Memory usage on this node: 3.3/62.5 GiB<br>Using FIFO scheduling algorithm.<br>Resources requested: 3.0/12 CPUs, 0/1 GPUs, 0.0/45.48 GiB heap, 0.0/9.31 GiB objects<br>Result logdir: /home/condauser/ray_results/PPO<br>Number of trials: 1/1 (1 RUNNING)<br><br>"
      ],
      "text/plain": [
       "<IPython.core.display.HTML object>"
      ]
     },
     "metadata": {},
     "output_type": "display_data"
    },
    {
     "data": {
      "text/html": [
       "== Status ==<br>Current time: 2021-12-09 14:37:50 (running for 00:02:51.16)<br>Memory usage on this node: 3.3/62.5 GiB<br>Using FIFO scheduling algorithm.<br>Resources requested: 3.0/12 CPUs, 0/1 GPUs, 0.0/45.48 GiB heap, 0.0/9.31 GiB objects<br>Result logdir: /home/condauser/ray_results/PPO<br>Number of trials: 1/1 (1 RUNNING)<br><br>"
      ],
      "text/plain": [
       "<IPython.core.display.HTML object>"
      ]
     },
     "metadata": {},
     "output_type": "display_data"
    },
    {
     "name": "stdout",
     "output_type": "stream",
     "text": [
      "Trial PPO_StatelessPendulum_ce305_00000 reported episode_reward_max=nan,episode_reward_min=nan,episode_reward_mean=nan,episode_len_mean=nan,episode_media={},episodes_this_iter=0,policy_reward_min={},policy_reward_max={},policy_reward_mean={},custom_metrics={},sampler_perf={},off_policy_estimator={},num_healthy_workers=2,timesteps_this_iter=0,agent_timesteps_total=84000,timers={'sample_time_ms': 8016.955, 'sample_throughput': 498.943, 'learn_time_ms': 4139.511, 'learn_throughput': 966.298, 'update_time_ms': 2.253},info={'learner': {'default_policy': {'learner_stats': {'allreduce_latency': 0.0, 'cur_kl_coeff': 0.006249999999999999, 'cur_lr': 5e-05, 'total_loss': 5.303510966445461, 'policy_loss': 0.030519427850165152, 'vf_loss': 52729.32091619318, 'vf_explained_var': -0.0002134846918510668, 'kl': 0.009533050291430409, 'entropy': 0.9723085746620641, 'entropy_coeff': 0.0}, 'model': {}, 'custom_metrics': {}}}, 'num_steps_sampled': 84000, 'num_agent_steps_sampled': 84000, 'num_steps_trained': 84000, 'num_steps_trained_this_iter': 0},perf={'cpu_util_percent': 16.71818181818182, 'ram_util_percent': 5.200000000000001} with parameters={'num_sgd_iter': 5, 'sgd_minibatch_size': 128, 'simple_optimizer': True, 'model': {'use_lstm': True, 'lstm_cell_size': 256, 'lstm_use_prev_action': True, 'lstm_use_prev_reward': True}, 'vf_loss_coeff': 0.0001, 'env': 'StatelessPendulum', 'num_gpus': 0, 'framework': 'torch'}.\n"
     ]
    },
    {
     "data": {
      "text/html": [
       "== Status ==<br>Current time: 2021-12-09 14:37:55 (running for 00:02:56.17)<br>Memory usage on this node: 3.3/62.5 GiB<br>Using FIFO scheduling algorithm.<br>Resources requested: 3.0/12 CPUs, 0/1 GPUs, 0.0/45.48 GiB heap, 0.0/9.31 GiB objects<br>Result logdir: /home/condauser/ray_results/PPO<br>Number of trials: 1/1 (1 RUNNING)<br><br>"
      ],
      "text/plain": [
       "<IPython.core.display.HTML object>"
      ]
     },
     "metadata": {},
     "output_type": "display_data"
    },
    {
     "name": "stdout",
     "output_type": "stream",
     "text": [
      "Trial PPO_StatelessPendulum_ce305_00000 reported episode_reward_max=nan,episode_reward_min=nan,episode_reward_mean=nan,episode_len_mean=nan,episode_media={},episodes_this_iter=0,policy_reward_min={},policy_reward_max={},policy_reward_mean={},custom_metrics={},sampler_perf={},off_policy_estimator={},num_healthy_workers=2,timesteps_this_iter=0,agent_timesteps_total=88000,timers={'sample_time_ms': 8009.678, 'sample_throughput': 499.396, 'learn_time_ms': 4165.981, 'learn_throughput': 960.158, 'update_time_ms': 2.254},info={'learner': {'default_policy': {'learner_stats': {'allreduce_latency': 0.0, 'cur_kl_coeff': 0.006249999999999999, 'cur_lr': 5e-05, 'total_loss': 5.315248922145728, 'policy_loss': 0.028462743437425657, 'vf_loss': 52867.7306936553, 'vf_explained_var': -3.028710683186849e-05, 'kl': 0.0021120667625597537, 'entropy': 0.9669447862740719, 'entropy_coeff': 0.0}, 'model': {}, 'custom_metrics': {}}}, 'num_steps_sampled': 88000, 'num_agent_steps_sampled': 88000, 'num_steps_trained': 88000, 'num_steps_trained_this_iter': 0},perf={'cpu_util_percent': 17.025, 'ram_util_percent': 5.200000000000001} with parameters={'num_sgd_iter': 5, 'sgd_minibatch_size': 128, 'simple_optimizer': True, 'model': {'use_lstm': True, 'lstm_cell_size': 256, 'lstm_use_prev_action': True, 'lstm_use_prev_reward': True}, 'vf_loss_coeff': 0.0001, 'env': 'StatelessPendulum', 'num_gpus': 0, 'framework': 'torch'}.\n"
     ]
    },
    {
     "data": {
      "text/html": [
       "== Status ==<br>Current time: 2021-12-09 14:38:00 (running for 00:03:01.34)<br>Memory usage on this node: 3.3/62.5 GiB<br>Using FIFO scheduling algorithm.<br>Resources requested: 3.0/12 CPUs, 0/1 GPUs, 0.0/45.48 GiB heap, 0.0/9.31 GiB objects<br>Result logdir: /home/condauser/ray_results/PPO<br>Number of trials: 1/1 (1 RUNNING)<br><br>"
      ],
      "text/plain": [
       "<IPython.core.display.HTML object>"
      ]
     },
     "metadata": {},
     "output_type": "display_data"
    },
    {
     "data": {
      "text/html": [
       "== Status ==<br>Current time: 2021-12-09 14:38:05 (running for 00:03:06.34)<br>Memory usage on this node: 3.3/62.5 GiB<br>Using FIFO scheduling algorithm.<br>Resources requested: 3.0/12 CPUs, 0/1 GPUs, 0.0/45.48 GiB heap, 0.0/9.31 GiB objects<br>Result logdir: /home/condauser/ray_results/PPO<br>Number of trials: 1/1 (1 RUNNING)<br><br>"
      ],
      "text/plain": [
       "<IPython.core.display.HTML object>"
      ]
     },
     "metadata": {},
     "output_type": "display_data"
    },
    {
     "name": "stdout",
     "output_type": "stream",
     "text": [
      "Trial PPO_StatelessPendulum_ce305_00000 reported episode_reward_max=nan,episode_reward_min=nan,episode_reward_mean=nan,episode_len_mean=nan,episode_media={},episodes_this_iter=0,policy_reward_min={},policy_reward_max={},policy_reward_mean={},custom_metrics={},sampler_perf={},off_policy_estimator={},num_healthy_workers=2,timesteps_this_iter=0,agent_timesteps_total=92000,timers={'sample_time_ms': 8068.821, 'sample_throughput': 495.735, 'learn_time_ms': 4166.963, 'learn_throughput': 959.932, 'update_time_ms': 2.191},info={'learner': {'default_policy': {'learner_stats': {'allreduce_latency': 0.0, 'cur_kl_coeff': 0.0031249999999999993, 'cur_lr': 5e-05, 'total_loss': 5.457133235353412, 'policy_loss': 0.024555991623889318, 'vf_loss': 54325.66075994318, 'vf_explained_var': -7.848667375969165e-06, 'kl': 0.003624000229419886, 'entropy': 0.9445365515622226, 'entropy_coeff': 0.0}, 'model': {}, 'custom_metrics': {}}}, 'num_steps_sampled': 92000, 'num_agent_steps_sampled': 92000, 'num_steps_trained': 92000, 'num_steps_trained_this_iter': 0},perf={'cpu_util_percent': 16.408333333333335, 'ram_util_percent': 5.200000000000001} with parameters={'num_sgd_iter': 5, 'sgd_minibatch_size': 128, 'simple_optimizer': True, 'model': {'use_lstm': True, 'lstm_cell_size': 256, 'lstm_use_prev_action': True, 'lstm_use_prev_reward': True}, 'vf_loss_coeff': 0.0001, 'env': 'StatelessPendulum', 'num_gpus': 0, 'framework': 'torch'}.\n"
     ]
    },
    {
     "data": {
      "text/html": [
       "== Status ==<br>Current time: 2021-12-09 14:38:11 (running for 00:03:11.48)<br>Memory usage on this node: 3.3/62.5 GiB<br>Using FIFO scheduling algorithm.<br>Resources requested: 3.0/12 CPUs, 0/1 GPUs, 0.0/45.48 GiB heap, 0.0/9.31 GiB objects<br>Result logdir: /home/condauser/ray_results/PPO<br>Number of trials: 1/1 (1 RUNNING)<br><br>"
      ],
      "text/plain": [
       "<IPython.core.display.HTML object>"
      ]
     },
     "metadata": {},
     "output_type": "display_data"
    },
    {
     "name": "stdout",
     "output_type": "stream",
     "text": [
      "Trial PPO_StatelessPendulum_ce305_00000 reported episode_reward_max=nan,episode_reward_min=nan,episode_reward_mean=nan,episode_len_mean=nan,episode_media={},episodes_this_iter=0,policy_reward_min={},policy_reward_max={},policy_reward_mean={},custom_metrics={},sampler_perf={},off_policy_estimator={},num_healthy_workers=2,timesteps_this_iter=0,agent_timesteps_total=96000,timers={'sample_time_ms': 8054.071, 'sample_throughput': 496.643, 'learn_time_ms': 4168.537, 'learn_throughput': 959.569, 'update_time_ms': 2.172},info={'learner': {'default_policy': {'learner_stats': {'allreduce_latency': 0.0, 'cur_kl_coeff': 0.0015624999999999997, 'cur_lr': 5e-05, 'total_loss': 5.4939002932924215, 'policy_loss': 0.024137740373385674, 'vf_loss': 54697.492199337124, 'vf_explained_var': 2.9766920841101442e-05, 'kl': 0.008610114820036022, 'entropy': 0.9873132958556666, 'entropy_coeff': 0.0}, 'model': {}, 'custom_metrics': {}}}, 'num_steps_sampled': 96000, 'num_agent_steps_sampled': 96000, 'num_steps_trained': 96000, 'num_steps_trained_this_iter': 0},perf={'cpu_util_percent': 16.481818181818184, 'ram_util_percent': 5.200000000000001} with parameters={'num_sgd_iter': 5, 'sgd_minibatch_size': 128, 'simple_optimizer': True, 'model': {'use_lstm': True, 'lstm_cell_size': 256, 'lstm_use_prev_action': True, 'lstm_use_prev_reward': True}, 'vf_loss_coeff': 0.0001, 'env': 'StatelessPendulum', 'num_gpus': 0, 'framework': 'torch'}.\n"
     ]
    },
    {
     "data": {
      "text/html": [
       "== Status ==<br>Current time: 2021-12-09 14:38:16 (running for 00:03:17.36)<br>Memory usage on this node: 3.3/62.5 GiB<br>Using FIFO scheduling algorithm.<br>Resources requested: 3.0/12 CPUs, 0/1 GPUs, 0.0/45.48 GiB heap, 0.0/9.31 GiB objects<br>Result logdir: /home/condauser/ray_results/PPO<br>Number of trials: 1/1 (1 RUNNING)<br><br>"
      ],
      "text/plain": [
       "<IPython.core.display.HTML object>"
      ]
     },
     "metadata": {},
     "output_type": "display_data"
    },
    {
     "data": {
      "text/html": [
       "== Status ==<br>Current time: 2021-12-09 14:38:22 (running for 00:03:22.37)<br>Memory usage on this node: 3.3/62.5 GiB<br>Using FIFO scheduling algorithm.<br>Resources requested: 3.0/12 CPUs, 0/1 GPUs, 0.0/45.48 GiB heap, 0.0/9.31 GiB objects<br>Result logdir: /home/condauser/ray_results/PPO<br>Number of trials: 1/1 (1 RUNNING)<br><br>"
      ],
      "text/plain": [
       "<IPython.core.display.HTML object>"
      ]
     },
     "metadata": {},
     "output_type": "display_data"
    },
    {
     "name": "stdout",
     "output_type": "stream",
     "text": [
      "Trial PPO_StatelessPendulum_ce305_00000 reported episode_reward_max=nan,episode_reward_min=nan,episode_reward_mean=nan,episode_len_mean=nan,episode_media={},episodes_this_iter=0,policy_reward_min={},policy_reward_max={},policy_reward_mean={},custom_metrics={},sampler_perf={},off_policy_estimator={},num_healthy_workers=2,timesteps_this_iter=0,agent_timesteps_total=100000,timers={'sample_time_ms': 8054.903, 'sample_throughput': 496.592, 'learn_time_ms': 4172.287, 'learn_throughput': 958.707, 'update_time_ms': 2.167},info={'learner': {'default_policy': {'learner_stats': {'allreduce_latency': 0.0, 'cur_kl_coeff': 0.0015624999999999997, 'cur_lr': 5e-05, 'total_loss': 5.3703459450692845, 'policy_loss': 0.01972379618409005, 'vf_loss': 53506.06985085227, 'vf_explained_var': -3.84583617701675e-05, 'kl': 0.00980129351949309, 'entropy': 0.8882211869413202, 'entropy_coeff': 0.0}, 'model': {}, 'custom_metrics': {}}}, 'num_steps_sampled': 100000, 'num_agent_steps_sampled': 100000, 'num_steps_trained': 100000, 'num_steps_trained_this_iter': 0},perf={'cpu_util_percent': 16.763636363636362, 'ram_util_percent': 5.20909090909091} with parameters={'num_sgd_iter': 5, 'sgd_minibatch_size': 128, 'simple_optimizer': True, 'model': {'use_lstm': True, 'lstm_cell_size': 256, 'lstm_use_prev_action': True, 'lstm_use_prev_reward': True}, 'vf_loss_coeff': 0.0001, 'env': 'StatelessPendulum', 'num_gpus': 0, 'framework': 'torch'}. This trial completed.\n"
     ]
    },
    {
     "data": {
      "text/html": [
       "== Status ==<br>Current time: 2021-12-09 14:38:24 (running for 00:03:24.53)<br>Memory usage on this node: 3.3/62.5 GiB<br>Using FIFO scheduling algorithm.<br>Resources requested: 0/12 CPUs, 0/1 GPUs, 0.0/45.48 GiB heap, 0.0/9.31 GiB objects<br>Result logdir: /home/condauser/ray_results/PPO<br>Number of trials: 1/1 (1 TERMINATED)<br><table>\n",
       "<thead>\n",
       "<tr><th>Trial name                       </th><th>status    </th><th>loc            </th><th style=\"text-align: right;\">  iter</th><th style=\"text-align: right;\">  total time (s)</th><th style=\"text-align: right;\">    ts</th><th style=\"text-align: right;\">  reward</th><th style=\"text-align: right;\">  episode_reward_max</th><th style=\"text-align: right;\">  episode_reward_min</th><th style=\"text-align: right;\">  episode_len_mean</th></tr>\n",
       "</thead>\n",
       "<tbody>\n",
       "<tr><td>PPO_StatelessPendulum_ce305_00000</td><td>TERMINATED</td><td>172.18.0.3:1107</td><td style=\"text-align: right;\">    25</td><td style=\"text-align: right;\">         200.292</td><td style=\"text-align: right;\">100000</td><td style=\"text-align: right;\">     nan</td><td style=\"text-align: right;\">                 nan</td><td style=\"text-align: right;\">                 nan</td><td style=\"text-align: right;\">               nan</td></tr>\n",
       "</tbody>\n",
       "</table><br><br>"
      ],
      "text/plain": [
       "<IPython.core.display.HTML object>"
      ]
     },
     "metadata": {},
     "output_type": "display_data"
    },
    {
     "name": "stderr",
     "output_type": "stream",
     "text": [
      "2021-12-09 14:38:24,287\tINFO tune.py:626 -- Total run time: 204.67 seconds (204.50 seconds for the tuning loop).\n"
     ]
    }
   ],
   "source": [
    "results = tune.run('PPO', config=config, stop=stop, verbose=2)"
   ]
  },
  {
   "cell_type": "code",
   "execution_count": null,
   "id": "63006c6a",
   "metadata": {},
   "outputs": [],
   "source": []
  }
 ],
 "metadata": {
  "kernelspec": {
   "display_name": "Python 3 (ipykernel)",
   "language": "python",
   "name": "python3"
  },
  "language_info": {
   "codemirror_mode": {
    "name": "ipython",
    "version": 3
   },
   "file_extension": ".py",
   "mimetype": "text/x-python",
   "name": "python",
   "nbconvert_exporter": "python",
   "pygments_lexer": "ipython3",
   "version": "3.9.5"
  }
 },
 "nbformat": 4,
 "nbformat_minor": 5
}
